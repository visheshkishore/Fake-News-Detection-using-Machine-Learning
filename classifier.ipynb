{
 "cells": [
  {
   "cell_type": "markdown",
   "metadata": {},
   "source": [
    "## Importing libraries and data files"
   ]
  },
  {
   "cell_type": "code",
   "execution_count": 142,
   "metadata": {},
   "outputs": [],
   "source": [
    "import pandas as pd\n",
    "import csv\n",
    "import numpy as np\n",
    "import nltk\n",
    "import matplotlib.pyplot as plt\n",
    "from nltk.stem import SnowballStemmer\n",
    "from nltk.stem.porter import PorterStemmer\n",
    "from nltk.tokenize import word_tokenize\n",
    "import seaborn as sb"
   ]
  },
  {
   "cell_type": "code",
   "execution_count": 6,
   "metadata": {},
   "outputs": [],
   "source": [
    "train_news = pd.read_csv('train.csv')\n",
    "test_news = pd.read_csv('test.csv')\n",
    "valid_news = pd.read_csv('valid.csv')"
   ]
  },
  {
   "cell_type": "markdown",
   "metadata": {},
   "source": [
    "## Overview of the training and testing dataset"
   ]
  },
  {
   "cell_type": "code",
   "execution_count": 28,
   "metadata": {},
   "outputs": [
    {
     "name": "stdout",
     "output_type": "stream",
     "text": [
      "training dataset size:\n",
      "(10240, 2)\n",
      "                                           Statement  Label\n",
      "0  Says the Annies List political group supports ...  False\n",
      "1  When did the decline of coal start? It started...   True\n",
      "2  Hillary Clinton agrees with John McCain \"by vo...   True\n",
      "3  Health care reform legislation is likely to ma...  False\n",
      "4  The economic turnaround started at the end of ...   True\n",
      "5  The Chicago Bears have had more starting quart...   True\n",
      "6  Jim Dunnam has not lived in the district he re...  False\n",
      "7  I'm the only person on this stage who has work...   True\n",
      "8  However, it took $19.5 million in Oregon Lotte...   True\n",
      "9  Says GOP primary opponents Glenn Grothman and ...   True\n",
      "Testing dataset size:\n",
      "(2551, 2)\n",
      "                                           Statement  Label\n",
      "0  Building a wall on the U.S.-Mexico border will...   True\n",
      "1  Wisconsin is on pace to double the number of l...  False\n",
      "2  Says John McCain has done nothing to help the ...  False\n",
      "3  Suzanne Bonamici supports a plan that will cut...   True\n",
      "4  When asked by a reporter whether hes at the ce...  False\n",
      "5  Over the past five years the federal governmen...   True\n",
      "6  Says that Tennessee law requires that schools ...   True\n",
      "7  Says Vice President Joe Biden \"admits that the...  False\n",
      "8  Donald Trump is against marriage equality. He ...   True\n",
      "9  We know that more than half of Hillary Clinton...  False\n",
      "validation dataset size:\n",
      "(2571, 2)\n",
      "                                           Statement  Label\n",
      "0  We have less Americans working now than in the...  FALSE\n",
      "1  When Obama was sworn into office, he DID NOT u...  FALSE\n",
      "2  Says Having organizations parading as being so...  FALSE\n",
      "3     Says nearly half of Oregons children are poor.   TRUE\n",
      "4  On attacks by Republicans that various program...   TRUE\n",
      "5  Says when armed civilians stop mass shootings ...  FALSE\n",
      "6  Says Tennessee is providing millions of dollar...   TRUE\n",
      "7  The health care reform plan would set limits s...  FALSE\n",
      "8  Says Donald Trump started his career back in 1...   TRUE\n",
      "9  Bill White has a long history of trying to lim...   TRUE\n"
     ]
    }
   ],
   "source": [
    "print(\"training dataset size:\")\n",
    "print(train_news.shape)\n",
    "print(train_news.head(10))\n",
    "\n",
    "print(\"Testing dataset size:\")\n",
    "print(test_news.shape)\n",
    "print(test_news.head(10))\n",
    "    \n",
    "print(\"validation dataset size:\")\n",
    "print(valid_news.shape)   \n",
    "print(valid_news.head(10))"
   ]
  },
  {
   "cell_type": "code",
   "execution_count": 160,
   "metadata": {},
   "outputs": [
    {
     "data": {
      "text/plain": [
       "'When asked by a reporter whether hes at the center of a criminal scheme to violate campaign laws, Gov. Scott Walker nodded yes.'"
      ]
     },
     "execution_count": 160,
     "metadata": {},
     "output_type": "execute_result"
    }
   ],
   "source": [
    "test_news['Statement'][4]"
   ]
  },
  {
   "cell_type": "markdown",
   "metadata": {},
   "source": [
    "\n",
    "### Labels count in training set"
   ]
  },
  {
   "cell_type": "code",
   "execution_count": 8,
   "metadata": {},
   "outputs": [
    {
     "data": {
      "text/plain": [
       "<matplotlib.axes._subplots.AxesSubplot at 0x7fc059b1ba90>"
      ]
     },
     "execution_count": 8,
     "metadata": {},
     "output_type": "execute_result"
    },
    {
     "data": {
      "image/png": "[encoded data removed]",
      "text/plain": [
       "<Figure size 432x288 with 1 Axes>"
      ]
     },
     "metadata": {
      "needs_background": "light"
     },
     "output_type": "display_data"
    }
   ],
   "source": [
    "sb.countplot(x='Label', data=train_news, palette='hls')"
   ]
  },
  {
   "cell_type": "markdown",
   "metadata": {},
   "source": [
    "### Labels count in test set"
   ]
  },
  {
   "cell_type": "code",
   "execution_count": 9,
   "metadata": {},
   "outputs": [
    {
     "data": {
      "text/plain": [
       "<matplotlib.axes._subplots.AxesSubplot at 0x7fc055308970>"
      ]
     },
     "execution_count": 9,
     "metadata": {},
     "output_type": "execute_result"
    },
    {
     "data": {
      "image/png": "[encoded data removed]",
      "text/plain": [
       "<Figure size 432x288 with 1 Axes>"
      ]
     },
     "metadata": {
      "needs_background": "light"
     },
     "output_type": "display_data"
    }
   ],
   "source": [
    "sb.countplot(x='Label', data=test_news, palette='hls')"
   ]
  },
  {
   "cell_type": "markdown",
   "metadata": {},
   "source": [
    "## Preprocessing the data"
   ]
  },
  {
   "cell_type": "code",
   "execution_count": 10,
   "metadata": {},
   "outputs": [
    {
     "name": "stdout",
     "output_type": "stream",
     "text": [
      "Checking data qualitites...\n",
      "<class 'pandas.core.frame.DataFrame'>\n",
      "RangeIndex: 10240 entries, 0 to 10239\n",
      "Data columns (total 2 columns):\n",
      " #   Column     Non-Null Count  Dtype \n",
      "---  ------     --------------  ----- \n",
      " 0   Statement  10240 non-null  object\n",
      " 1   Label      10240 non-null  bool  \n",
      "dtypes: bool(1), object(1)\n",
      "memory usage: 90.1+ KB\n"
     ]
    }
   ],
   "source": [
    "print(\"Checking data qualitites...\")\n",
    "train_news.isnull().sum()\n",
    "train_news.info()\n"
   ]
  },
  {
   "cell_type": "code",
   "execution_count": 11,
   "metadata": {},
   "outputs": [
    {
     "name": "stdout",
     "output_type": "stream",
     "text": [
      "Checking data qualities in testing set:\n",
      "<class 'pandas.core.frame.DataFrame'>\n",
      "RangeIndex: 2551 entries, 0 to 2550\n",
      "Data columns (total 2 columns):\n",
      " #   Column     Non-Null Count  Dtype \n",
      "---  ------     --------------  ----- \n",
      " 0   Statement  2551 non-null   object\n",
      " 1   Label      2551 non-null   bool  \n",
      "dtypes: bool(1), object(1)\n",
      "memory usage: 22.5+ KB\n"
     ]
    }
   ],
   "source": [
    "print(\"Checking data qualities in testing set:\")\n",
    "test_news.isnull().sum()\n",
    "test_news.info()"
   ]
  },
  {
   "cell_type": "code",
   "execution_count": 12,
   "metadata": {},
   "outputs": [],
   "source": [
    "#Stemming to reduce words to its word stems\n",
    "def stem_tokens(tokens, stemmer):\n",
    "    stemmed = []\n",
    "    for token in tokens:\n",
    "        stemmed.append(stemmer.stem(token))\n",
    "    return stemmed"
   ]
  },
  {
   "cell_type": "code",
   "execution_count": 13,
   "metadata": {},
   "outputs": [],
   "source": [
    "#processing the data\n",
    "def process_data(data,exclude_stopword=True,stem=True):\n",
    "    tokens = [w.lower() for w in data]\n",
    "    tokens_stemmed = tokens\n",
    "    tokens_stemmed = stem_tokens(tokens, eng_stemmer)\n",
    "    tokens_stemmed = [w for w in tokens_stemmed if w not in stopwords ]\n",
    "    return tokens_stemmed"
   ]
  },
  {
   "cell_type": "code",
   "execution_count": null,
   "metadata": {},
   "outputs": [],
   "source": []
  },
  {
   "cell_type": "code",
   "execution_count": 14,
   "metadata": {},
   "outputs": [],
   "source": [
    "#creating unigram in nltk\n",
    "def create_unigram(words):\n",
    "    assert type(words) == list\n",
    "    return words\n",
    "\n",
    "#creating bigram in nltk\n",
    "def create_bigrams(words):\n",
    "    assert type(words) == list\n",
    "    skip = 0\n",
    "    join_str = \" \"\n",
    "    Len = len(words)\n",
    "    if Len > 1:\n",
    "        lst = []\n",
    "        for i in range(Len-1):\n",
    "            for k in range(1,skip+2):\n",
    "                if i+k < Len:\n",
    "                    lst.append(join_str.join([words[i],words[i+k]]))\n",
    "    else:\n",
    "        #set it as unigram\n",
    "        lst = create_unigram(words)\n",
    "    return lst"
   ]
  },
  {
   "cell_type": "markdown",
   "metadata": {},
   "source": [
    "### Creating bag of words using Count vectorizer and TF-IDF to convert unstructured data into set of attributes"
   ]
  },
  {
   "cell_type": "code",
   "execution_count": 15,
   "metadata": {},
   "outputs": [],
   "source": [
    "\n",
    "import pandas as pd\n",
    "import numpy as np\n",
    "from sklearn.feature_extraction.text import CountVectorizer\n",
    "from sklearn.feature_extraction.text import TfidfTransformer\n",
    "from sklearn.feature_extraction.text import TfidfVectorizer\n",
    "from sklearn.pipeline import Pipeline\n",
    "import nltk\n",
    "import nltk.corpus \n",
    "from nltk.tokenize import word_tokenize\n",
    "from gensim.models.word2vec import Word2Vec"
   ]
  },
  {
   "cell_type": "code",
   "execution_count": 49,
   "metadata": {},
   "outputs": [],
   "source": [
    "#we will start with simple bag of words technique using count vectorizer\n",
    "#creating feature vector - document term matrix\n",
    "countV = CountVectorizer()\n",
    "train_count = countV.fit_transform(train_news['Statement'].values)"
   ]
  },
  {
   "cell_type": "code",
   "execution_count": 50,
   "metadata": {},
   "outputs": [
    {
     "name": "stdout",
     "output_type": "stream",
     "text": [
      "CountVectorizer()\n",
      "  (0, 9676)\t1\n",
      "  (0, 10988)\t1\n",
      "  (0, 1044)\t1\n",
      "  (0, 6639)\t1\n",
      "  (0, 8376)\t1\n",
      "  (0, 5115)\t1\n",
      "  (0, 10709)\t1\n",
      "  (0, 11036)\t1\n",
      "  (0, 11296)\t1\n",
      "  (0, 615)\t1\n",
      "  (0, 7728)\t1\n",
      "  (0, 3278)\t1\n",
      "  (1, 10988)\t1\n",
      "  (1, 11934)\t2\n",
      "  (1, 3434)\t1\n",
      "  (1, 3185)\t1\n",
      "  (1, 7672)\t1\n",
      "  (1, 2475)\t1\n",
      "  (1, 10425)\t1\n",
      "  (1, 6052)\t1\n",
      "  (1, 10426)\t2\n",
      "  (1, 7418)\t1\n",
      "  (1, 4860)\t1\n",
      "  (1, 11138)\t1\n",
      "  (1, 7674)\t1\n",
      "  :\t:\n",
      "  (10239, 10988)\t1\n",
      "  (10239, 7672)\t2\n",
      "  (10239, 11110)\t2\n",
      "  (10239, 5267)\t1\n",
      "  (10239, 7828)\t1\n",
      "  (10239, 7824)\t1\n",
      "  (10239, 1159)\t1\n",
      "  (10239, 12151)\t2\n",
      "  (10239, 6327)\t1\n",
      "  (10239, 6603)\t1\n",
      "  (10239, 11013)\t1\n",
      "  (10239, 11004)\t1\n",
      "  (10239, 3309)\t1\n",
      "  (10239, 12158)\t1\n",
      "  (10239, 11660)\t2\n",
      "  (10239, 799)\t1\n",
      "  (10239, 2568)\t1\n",
      "  (10239, 11622)\t1\n",
      "  (10239, 2549)\t1\n",
      "  (10239, 10660)\t1\n",
      "  (10239, 8996)\t1\n",
      "  (10239, 10918)\t1\n",
      "  (10239, 3989)\t1\n",
      "  (10239, 10594)\t1\n",
      "  (10239, 6853)\t1\n"
     ]
    }
   ],
   "source": [
    "print(countV)\n",
    "print(train_count)\n"
   ]
  },
  {
   "cell_type": "markdown",
   "metadata": {},
   "source": [
    "## Importing models"
   ]
  },
  {
   "cell_type": "code",
   "execution_count": 143,
   "metadata": {},
   "outputs": [],
   "source": [
    "from sklearn.pipeline import Pipeline\n",
    "from sklearn.naive_bayes import MultinomialNB\n",
    "from sklearn.linear_model import  LogisticRegression\n",
    "from sklearn.linear_model import SGDClassifier\n",
    "from sklearn import svm\n",
    "from sklearn.ensemble import RandomForestClassifier\n",
    "from sklearn.model_selection import KFold\n",
    "from sklearn.metrics import confusion_matrix, f1_score, classification_report\n",
    "from sklearn.model_selection import GridSearchCV\n",
    "from sklearn.model_selection import learning_curve"
   ]
  },
  {
   "cell_type": "markdown",
   "metadata": {},
   "source": [
    "### First we will use bag of words technique"
   ]
  },
  {
   "cell_type": "code",
   "execution_count": 53,
   "metadata": {},
   "outputs": [
    {
     "data": {
      "text/plain": [
       "0.6072128577028616"
      ]
     },
     "execution_count": 53,
     "metadata": {},
     "output_type": "execute_result"
    }
   ],
   "source": [
    "#building classifier using naive bayes \n",
    "nb_pipeline = Pipeline([\n",
    "        ('NBCV', countV),\n",
    "        ('nb_clf',MultinomialNB())])\n",
    "\n",
    "nb_pipeline.fit(train_news['Statement'], train_news['Label'])\n",
    "predicted_nb = nb_pipeline.predict(test_news['Statement'])\n",
    "np.mean(predicted_nb == test_news['Label'])"
   ]
  },
  {
   "cell_type": "code",
   "execution_count": 54,
   "metadata": {},
   "outputs": [
    {
     "data": {
      "text/plain": [
       "0.591140729125833"
      ]
     },
     "execution_count": 54,
     "metadata": {},
     "output_type": "execute_result"
    }
   ],
   "source": [
    "#Logistic Regression classifier\n",
    "logR_pipeline = Pipeline([\n",
    "        ('LogRCV',countV),\n",
    "        ('LogR_clf',LogisticRegression())\n",
    "        ])\n",
    "\n",
    "logR_pipeline.fit(train_news['Statement'], train_news['Label'])\n",
    "predicted_LogR = logR_pipeline.predict(test_news['Statement'])\n",
    "np.mean(predicted_LogR == test_news['Label'])"
   ]
  },
  {
   "cell_type": "code",
   "execution_count": 59,
   "metadata": {},
   "outputs": [
    {
     "name": "stderr",
     "output_type": "stream",
     "text": [
      "/Library/Frameworks/Python.framework/Versions/3.8/lib/python3.8/site-packages/sklearn/svm/_base.py:976: ConvergenceWarning: Liblinear failed to converge, increase the number of iterations.\n",
      "  warnings.warn(\"Liblinear failed to converge, increase \"\n"
     ]
    },
    {
     "data": {
      "text/plain": [
       "0.5723245785966288"
      ]
     },
     "execution_count": 59,
     "metadata": {},
     "output_type": "execute_result"
    }
   ],
   "source": [
    "# svm classifier\n",
    "svm_pipeline = Pipeline([\n",
    "        ('svmCV',countV),\n",
    "        ('svm_clf',svm.LinearSVC())\n",
    "        ])\n",
    "\n",
    "svm_pipeline.fit(train_news['Statement'],train_news['Label'])\n",
    "predicted_svm = svm_pipeline.predict(test_news['Statement'])\n",
    "np.mean(predicted_svm == test_news['Label'])"
   ]
  },
  {
   "cell_type": "code",
   "execution_count": 60,
   "metadata": {},
   "outputs": [
    {
     "data": {
      "text/plain": [
       "0.613092904743238"
      ]
     },
     "execution_count": 60,
     "metadata": {},
     "output_type": "execute_result"
    }
   ],
   "source": [
    "#stochastic gradient descent\n",
    "sgd_pipeline = Pipeline([\n",
    "        ('svm2CV',countV),\n",
    "        ('svm2_clf',SGDClassifier(loss='hinge', penalty='l2', alpha=1e-3))\n",
    "        ])\n",
    "\n",
    "sgd_pipeline.fit(train_news['Statement'],train_news['Label'])\n",
    "predicted_sgd = sgd_pipeline.predict(test_news['Statement'])\n",
    "np.mean(predicted_sgd == test_news['Label'])"
   ]
  },
  {
   "cell_type": "code",
   "execution_count": 62,
   "metadata": {},
   "outputs": [
    {
     "data": {
      "text/plain": [
       "0.613092904743238"
      ]
     },
     "execution_count": 62,
     "metadata": {},
     "output_type": "execute_result"
    }
   ],
   "source": [
    "#Random forest classifier\n",
    "random_forest = Pipeline([\n",
    "        ('rfCV',countV),\n",
    "        ('rf_clf',RandomForestClassifier(n_estimators=100,n_jobs=3))\n",
    "        ])\n",
    "    \n",
    "random_forest.fit(train_news['Statement'],train_news['Label'])\n",
    "predicted_rf = random_forest.predict(test_news['Statement'])\n",
    "np.mean(predicted_rf == test_news['Label'])"
   ]
  },
  {
   "cell_type": "code",
   "execution_count": 63,
   "metadata": {},
   "outputs": [],
   "source": [
    "def build_confusion_matrix(classifier):\n",
    "    \n",
    "    k_fold = KFold(n_splits=5)\n",
    "    scores = []\n",
    "    confusion = np.array([[0,0],[0,0]])\n",
    "\n",
    "    for train_ind, test_ind in k_fold.split(train_news):\n",
    "        train_text = train_news.iloc[train_ind]['Statement'] \n",
    "        train_y = train_news.iloc[train_ind]['Label']\n",
    "    \n",
    "        test_text = train_news.iloc[test_ind]['Statement']\n",
    "        test_y = train_news.iloc[test_ind]['Label']\n",
    "        \n",
    "        classifier.fit(train_text,train_y)\n",
    "        predictions = classifier.predict(test_text)\n",
    "        \n",
    "        confusion += confusion_matrix(test_y,predictions)\n",
    "        score = f1_score(test_y,predictions)\n",
    "        scores.append(score)\n",
    "    \n",
    "    return (print('Total statements classified:', len(train_news)),\n",
    "    print('F1-Score:', sum(scores)/len(scores)),\n",
    "    print('score length', len(scores)),\n",
    "    print('Confusion matrix:'),\n",
    "    print(confusion))"
   ]
  },
  {
   "cell_type": "code",
   "execution_count": 64,
   "metadata": {},
   "outputs": [
    {
     "name": "stdout",
     "output_type": "stream",
     "text": [
      "Total statements classified: 10240\n",
      "F1-Score: 0.66961153965076\n",
      "score length 5\n",
      "Confusion matrix:\n",
      "[[2118 2370]\n",
      " [1664 4088]]\n"
     ]
    },
    {
     "data": {
      "text/plain": [
       "(None, None, None, None, None)"
      ]
     },
     "execution_count": 64,
     "metadata": {},
     "output_type": "execute_result"
    }
   ],
   "source": [
    "build_confusion_matrix(nb_pipeline)\n"
   ]
  },
  {
   "cell_type": "code",
   "execution_count": 65,
   "metadata": {},
   "outputs": [
    {
     "name": "stdout",
     "output_type": "stream",
     "text": [
      "Total statements classified: 10240\n",
      "F1-Score: 0.7025623649614049\n",
      "score length 5\n",
      "Confusion matrix:\n",
      "[[1177 3311]\n",
      " [ 844 4908]]\n"
     ]
    },
    {
     "data": {
      "text/plain": [
       "(None, None, None, None, None)"
      ]
     },
     "execution_count": 65,
     "metadata": {},
     "output_type": "execute_result"
    }
   ],
   "source": [
    "build_confusion_matrix(logR_pipeline)\n"
   ]
  },
  {
   "cell_type": "code",
   "execution_count": 66,
   "metadata": {},
   "outputs": [
    {
     "name": "stdout",
     "output_type": "stream",
     "text": [
      "Total statements classified: 10240\n",
      "F1-Score: 0.6104687487924283\n",
      "score length 5\n",
      "Confusion matrix:\n",
      "[[2260 2228]\n",
      " [2246 3506]]\n"
     ]
    },
    {
     "name": "stderr",
     "output_type": "stream",
     "text": [
      "/Library/Frameworks/Python.framework/Versions/3.8/lib/python3.8/site-packages/sklearn/svm/_base.py:976: ConvergenceWarning: Liblinear failed to converge, increase the number of iterations.\n",
      "  warnings.warn(\"Liblinear failed to converge, increase \"\n"
     ]
    },
    {
     "data": {
      "text/plain": [
       "(None, None, None, None, None)"
      ]
     },
     "execution_count": 66,
     "metadata": {},
     "output_type": "execute_result"
    }
   ],
   "source": [
    "build_confusion_matrix(svm_pipeline)\n"
   ]
  },
  {
   "cell_type": "code",
   "execution_count": 45,
   "metadata": {},
   "outputs": [
    {
     "name": "stdout",
     "output_type": "stream",
     "text": [
      "Total statements classified: 10240\n",
      "Score: 0.659933439952882\n",
      "score length 5\n",
      "Confusion matrix:\n",
      "[[1490 2998]\n",
      " [1442 4310]]\n"
     ]
    },
    {
     "data": {
      "text/plain": [
       "(None, None, None, None, None)"
      ]
     },
     "execution_count": 45,
     "metadata": {},
     "output_type": "execute_result"
    }
   ],
   "source": [
    "build_confusion_matrix(random_forest)\n"
   ]
  },
  {
   "cell_type": "markdown",
   "metadata": {},
   "source": [
    "### So far we have used bag of words technique to extract the features and passed those featuers into classifiers. We have also seen the f1 scores of these classifiers. Now lets enhance these features using term frequency weights with various n-grams"
   ]
  },
  {
   "cell_type": "code",
   "execution_count": 68,
   "metadata": {},
   "outputs": [],
   "source": [
    "tfidf_ngram = TfidfVectorizer(stop_words='english',ngram_range=(1,4),use_idf=True,smooth_idf=True)\n"
   ]
  },
  {
   "cell_type": "markdown",
   "metadata": {},
   "source": [
    "### Now using n-gram "
   ]
  },
  {
   "cell_type": "code",
   "execution_count": 69,
   "metadata": {},
   "outputs": [
    {
     "data": {
      "text/plain": [
       "0.5938847510780086"
      ]
     },
     "execution_count": 69,
     "metadata": {},
     "output_type": "execute_result"
    }
   ],
   "source": [
    "##Using Naive-Bayes\n",
    "nb_pipeline_ngram = Pipeline([\n",
    "        ('nb_tfidf',tfidf_ngram),\n",
    "        ('nb_clf',MultinomialNB())])\n",
    "\n",
    "nb_pipeline_ngram.fit(train_news['Statement'],train_news['Label'])\n",
    "predicted_nb_ngram = nb_pipeline_ngram.predict(test_news['Statement'])\n",
    "np.mean(predicted_nb_ngram == test_news['Label'])"
   ]
  },
  {
   "cell_type": "code",
   "execution_count": null,
   "metadata": {},
   "outputs": [],
   "source": []
  },
  {
   "cell_type": "code",
   "execution_count": 70,
   "metadata": {},
   "outputs": [
    {
     "data": {
      "text/plain": [
       "0.6193649549196394"
      ]
     },
     "execution_count": 70,
     "metadata": {},
     "output_type": "execute_result"
    }
   ],
   "source": [
    "#logistic regression classifier\n",
    "logR_pipeline_ngram = Pipeline([\n",
    "        ('LogR_tfidf',tfidf_ngram),\n",
    "        ('LogR_clf',LogisticRegression(penalty=\"l2\",C=1))\n",
    "        ])\n",
    "\n",
    "logR_pipeline_ngram.fit(train_news['Statement'],train_news['Label'])\n",
    "predicted_LogR_ngram = logR_pipeline_ngram.predict(test_news['Statement'])\n",
    "np.mean(predicted_LogR_ngram == test_news['Label'])"
   ]
  },
  {
   "cell_type": "code",
   "execution_count": 71,
   "metadata": {},
   "outputs": [
    {
     "data": {
      "text/plain": [
       "0.6170129361034888"
      ]
     },
     "execution_count": 71,
     "metadata": {},
     "output_type": "execute_result"
    }
   ],
   "source": [
    "#linear SVM classifier\n",
    "svm_pipeline_ngram = Pipeline([\n",
    "        ('svm_tfidf',tfidf_ngram),\n",
    "        ('svm_clf',svm.LinearSVC())\n",
    "        ])\n",
    "\n",
    "svm_pipeline_ngram.fit(train_news['Statement'],train_news['Label'])\n",
    "predicted_svm_ngram = svm_pipeline_ngram.predict(test_news['Statement'])\n",
    "np.mean(predicted_svm_ngram == test_news['Label'])"
   ]
  },
  {
   "cell_type": "code",
   "execution_count": 73,
   "metadata": {},
   "outputs": [
    {
     "data": {
      "text/plain": [
       "0.5417483339866719"
      ]
     },
     "execution_count": 73,
     "metadata": {},
     "output_type": "execute_result"
    }
   ],
   "source": [
    "#sgd classifier\n",
    "sgd_pipeline_ngram = Pipeline([\n",
    "         ('sgd_tfidf',tfidf_ngram),\n",
    "         ('sgd_clf',SGDClassifier(loss='hinge', penalty='l2', alpha=1e-3))\n",
    "         ])\n",
    "\n",
    "sgd_pipeline_ngram.fit(train_news['Statement'],train_news['Label'])\n",
    "predicted_sgd_ngram = sgd_pipeline_ngram.predict(test_news['Statement'])\n",
    "np.mean(predicted_sgd_ngram == test_news['Label'])\n"
   ]
  },
  {
   "cell_type": "code",
   "execution_count": 75,
   "metadata": {},
   "outputs": [
    {
     "data": {
      "text/plain": [
       "0.6025088200705606"
      ]
     },
     "execution_count": 75,
     "metadata": {},
     "output_type": "execute_result"
    }
   ],
   "source": [
    "#Random Forest Classifier\n",
    "random_forest_ngram = Pipeline([\n",
    "        ('rf_tfidf',tfidf_ngram),\n",
    "        ('rf_clf',RandomForestClassifier(n_estimators=300,n_jobs=3))\n",
    "        ])\n",
    "    \n",
    "random_forest_ngram.fit(train_news['Statement'],train_news['Label'])\n",
    "predicted_rf_ngram = random_forest_ngram.predict(test_news['Statement'])\n",
    "np.mean(predicted_rf_ngram == test_news['Label'])"
   ]
  },
  {
   "cell_type": "code",
   "execution_count": 78,
   "metadata": {},
   "outputs": [
    {
     "name": "stdout",
     "output_type": "stream",
     "text": [
      "Total statements classified: 10240\n",
      "F1-Score: 0.7224053159841455\n",
      "score length 5\n",
      "Confusion matrix:\n",
      "[[ 758 3730]\n",
      " [ 390 5362]]\n",
      "Total statements classified: 10240\n",
      "F1-Score: 0.7044355553757985\n",
      "score length 5\n",
      "Confusion matrix:\n",
      "[[1580 2908]\n",
      " [1043 4709]]\n",
      "Total statements classified: 10240\n",
      "F1-Score: 0.6790920142902143\n",
      "score length 5\n",
      "Confusion matrix:\n",
      "[[2016 2472]\n",
      " [1524 4228]]\n",
      "Total statements classified: 10240\n",
      "F1-Score: 0.7190643331130575\n",
      "score length 5\n",
      "Confusion matrix:\n",
      "[[   5 4483]\n",
      " [   6 5746]]\n",
      "Total statements classified: 10240\n",
      "F1-Score: 0.6583368788755276\n",
      "score length 5\n",
      "Confusion matrix:\n",
      "[[1993 2495]\n",
      " [1705 4047]]\n"
     ]
    },
    {
     "data": {
      "text/plain": [
       "(None, None, None, None, None)"
      ]
     },
     "execution_count": 78,
     "metadata": {},
     "output_type": "execute_result"
    }
   ],
   "source": [
    "build_confusion_matrix(nb_pipeline_ngram)\n",
    "build_confusion_matrix(logR_pipeline_ngram)\n",
    "build_confusion_matrix(svm_pipeline_ngram)\n",
    "build_confusion_matrix(sgd_pipeline_ngram)\n",
    "build_confusion_matrix(random_forest_ngram)"
   ]
  },
  {
   "cell_type": "code",
   "execution_count": 80,
   "metadata": {},
   "outputs": [
    {
     "name": "stdout",
     "output_type": "stream",
     "text": [
      "Naive-Bayes Classification Report\n",
      "              precision    recall  f1-score   support\n",
      "\n",
      "       False       0.72      0.19      0.30      1169\n",
      "        True       0.58      0.94      0.71      1382\n",
      "\n",
      "    accuracy                           0.59      2551\n",
      "   macro avg       0.65      0.56      0.51      2551\n",
      "weighted avg       0.64      0.59      0.52      2551\n",
      "\n"
     ]
    }
   ],
   "source": [
    "print(\"Naive-Bayes Classification Report\")\n",
    "print(classification_report(test_news['Label'], predicted_nb_ngram))\n"
   ]
  },
  {
   "cell_type": "code",
   "execution_count": 82,
   "metadata": {},
   "outputs": [
    {
     "name": "stdout",
     "output_type": "stream",
     "text": [
      "Logistic Regression Classification Report\n",
      "              precision    recall  f1-score   support\n",
      "\n",
      "       False       0.64      0.39      0.49      1169\n",
      "        True       0.61      0.81      0.70      1382\n",
      "\n",
      "    accuracy                           0.62      2551\n",
      "   macro avg       0.62      0.60      0.59      2551\n",
      "weighted avg       0.62      0.62      0.60      2551\n",
      "\n"
     ]
    }
   ],
   "source": [
    "print(\"Logistic Regression Classification Report\")\n",
    "print(classification_report(test_news['Label'], predicted_LogR_ngram))\n"
   ]
  },
  {
   "cell_type": "code",
   "execution_count": 84,
   "metadata": {},
   "outputs": [
    {
     "name": "stdout",
     "output_type": "stream",
     "text": [
      "SVM Classification Report\n",
      "              precision    recall  f1-score   support\n",
      "\n",
      "       False       0.61      0.47      0.53      1169\n",
      "        True       0.62      0.74      0.68      1382\n",
      "\n",
      "    accuracy                           0.62      2551\n",
      "   macro avg       0.61      0.61      0.60      2551\n",
      "weighted avg       0.62      0.62      0.61      2551\n",
      "\n"
     ]
    }
   ],
   "source": [
    "print(\"SVM Classification Report\")\n",
    "print(classification_report(test_news['Label'], predicted_svm_ngram))\n"
   ]
  },
  {
   "cell_type": "code",
   "execution_count": 86,
   "metadata": {},
   "outputs": [
    {
     "name": "stdout",
     "output_type": "stream",
     "text": [
      "Random Forest Classification Report\n",
      "              precision    recall  f1-score   support\n",
      "\n",
      "       False       0.58      0.46      0.52      1169\n",
      "        True       0.61      0.72      0.66      1382\n",
      "\n",
      "    accuracy                           0.60      2551\n",
      "   macro avg       0.60      0.59      0.59      2551\n",
      "weighted avg       0.60      0.60      0.60      2551\n",
      "\n"
     ]
    }
   ],
   "source": [
    "print(\"Random Forest Classification Report\")\n",
    "print(classification_report(test_news['Label'], predicted_rf_ngram))"
   ]
  },
  {
   "cell_type": "markdown",
   "metadata": {},
   "source": [
    "###  We can see that random forest and logistic regression are best performing in terms of precision and recall (take a look into false positive and true negative counts which appeares to be low compared to rest of the models)"
   ]
  },
  {
   "cell_type": "markdown",
   "metadata": {},
   "source": [
    "### Using Grid Search CV to optimise best fit parameters for Logistic regression and Random forest"
   ]
  },
  {
   "cell_type": "markdown",
   "metadata": {},
   "source": [
    "### Grid Search CV on random forest"
   ]
  },
  {
   "cell_type": "code",
   "execution_count": 89,
   "metadata": {},
   "outputs": [
    {
     "data": {
      "text/plain": [
       "{'mean_fit_time': array([2.05791745, 1.94410877, 2.47894258, 2.41898675, 3.2570385 ,\n",
       "        3.03598804, 3.6386713 , 3.57822642, 4.12078052, 4.09138455,\n",
       "        1.90244536, 1.98958316, 2.66954861, 2.55533762, 3.13792133,\n",
       "        3.08940535, 3.86097908, 3.79714036, 4.47562609, 4.71137695,\n",
       "        2.19359903, 2.13679881, 2.63193178, 2.53701353, 3.43978577,\n",
       "        3.24730372, 3.96850977, 3.82996416, 4.4389679 , 4.42904477,\n",
       "        2.2643662 , 2.07664795, 2.77371664, 2.81122794, 3.46569057,\n",
       "        3.36376495, 4.12080417, 4.11133976, 4.88107572, 5.1925787 ,\n",
       "        2.18099952, 2.13722062, 3.06852369, 2.91428499, 3.59014993,\n",
       "        3.75721073, 4.18661566, 4.14944611, 4.84700422, 4.99697213,\n",
       "        2.3089788 , 2.12737741, 3.07097144, 3.01708899, 3.84008365,\n",
       "        3.75498099, 4.62137299, 4.80059695, 5.21201115, 5.34382601,\n",
       "        2.40601473, 2.32536445, 3.21112356, 3.29042358, 4.46569257,\n",
       "        4.25964193, 5.94388795, 5.13165693, 5.95458031, 5.72306232,\n",
       "        2.543436  , 2.61354084, 3.63459477, 3.52051291, 4.43787704,\n",
       "        4.64451008, 5.59544768, 5.10991669, 5.70329289, 5.89425926,\n",
       "        2.5671041 , 2.42454085, 3.46091323, 3.47377133, 4.46125784,\n",
       "        4.48574066, 5.30034661, 5.34273429, 6.07121272, 6.91677814,\n",
       "        2.95996804, 2.67639656, 3.86104383, 3.74416289, 5.06271777,\n",
       "        5.11155586, 5.86558375, 5.71516399, 6.55292721, 6.80103912,\n",
       "        2.79501057, 2.69236417, 3.92168026, 4.0808919 , 5.23623257,\n",
       "        5.55865984, 6.51426854, 6.17541242, 7.09107304, 7.30741954,\n",
       "        2.97297797, 2.84005671, 4.20234108, 4.25438662, 5.61457791,\n",
       "        5.4074327 , 6.85488157, 6.61211653, 7.36676054, 7.70287728,\n",
       "        3.08183346, 3.0314538 , 4.35106592, 4.48419662, 5.84384336,\n",
       "        5.82957606, 6.93255467, 6.84677258, 8.37400661, 8.21280141,\n",
       "        3.20474949, 2.97448168, 4.62915545, 4.77259407, 6.21752453,\n",
       "        6.10288043, 7.4329493 , 7.25977826, 8.34978085, 8.98384304,\n",
       "        3.36543193, 3.0714972 , 4.87467561, 4.86635213, 6.6549222 ,\n",
       "        6.44673696, 7.74254632, 7.63134313, 8.73396406, 8.08463836]),\n",
       " 'std_fit_time': array([0.0682666 , 0.15872444, 0.04155896, 0.03240142, 0.19168696,\n",
       "        0.07641423, 0.06378281, 0.04662548, 0.05604676, 0.11006068,\n",
       "        0.15953679, 0.11625701, 0.09652838, 0.06910566, 0.05295377,\n",
       "        0.0956642 , 0.04738992, 0.06078442, 0.16541312, 0.21317847,\n",
       "        0.19256344, 0.13213319, 0.05794462, 0.05072625, 0.1444314 ,\n",
       "        0.038865  , 0.09640824, 0.08409701, 0.072775  , 0.14133174,\n",
       "        0.05628444, 0.07200185, 0.04131806, 0.07124476, 0.08833867,\n",
       "        0.07093732, 0.10498766, 0.09596097, 0.3152032 , 0.20938529,\n",
       "        0.11353325, 0.08768599, 0.04878126, 0.09049032, 0.06579881,\n",
       "        0.05705676, 0.10764635, 0.19323454, 0.1874747 , 0.34199704,\n",
       "        0.14666994, 0.09320982, 0.09637177, 0.10757373, 0.07289136,\n",
       "        0.08668614, 0.21014002, 0.36384777, 0.06754213, 0.13678918,\n",
       "        0.10846186, 0.06661845, 0.0605244 , 0.20195638, 0.27959626,\n",
       "        0.2455423 , 0.34868444, 0.22877287, 0.23462736, 0.2109719 ,\n",
       "        0.32514537, 0.11724263, 0.02441076, 0.05817789, 0.22983071,\n",
       "        0.1735746 , 0.24948   , 0.0569527 , 0.15553116, 0.36800788,\n",
       "        0.15974554, 0.13220671, 0.29207799, 0.05471667, 0.11718798,\n",
       "        0.09380513, 0.10466827, 0.09937708, 0.14631341, 0.83743945,\n",
       "        0.26472115, 0.12764937, 0.10706472, 0.17981787, 0.11677981,\n",
       "        0.06052535, 0.15569069, 0.12832267, 0.05410385, 0.55072339,\n",
       "        0.35472734, 0.18836803, 0.15019173, 0.08420612, 0.26359725,\n",
       "        0.19883707, 0.12570683, 0.0684598 , 0.196553  , 0.28721889,\n",
       "        0.24156811, 0.09190045, 0.32124686, 0.26462666, 0.1467573 ,\n",
       "        0.28225224, 0.29330882, 0.16306157, 0.08632974, 0.48017525,\n",
       "        0.33233615, 0.12227438, 0.21883901, 0.10512774, 0.12265575,\n",
       "        0.18674441, 0.12841484, 0.09237251, 0.20328745, 0.39987302,\n",
       "        0.22563036, 0.16325251, 0.25907085, 0.09003592, 0.1803128 ,\n",
       "        0.18392921, 0.09559006, 0.06817218, 0.37563414, 0.33440732,\n",
       "        0.15843636, 0.12098922, 0.2365055 , 0.13022696, 0.25933368,\n",
       "        0.21180273, 0.12031268, 0.17952033, 0.16305563, 0.73610182]),\n",
       " 'mean_score_time': array([0.33547597, 0.27935028, 0.34380913, 0.33600783, 0.40006661,\n",
       "        0.42807837, 0.45983686, 0.45902734, 0.53859148, 0.53780499,\n",
       "        0.24353018, 0.28635736, 0.34778056, 0.34156289, 0.42943754,\n",
       "        0.39002042, 0.41676197, 0.38476787, 0.48767428, 0.48422623,\n",
       "        0.25747523, 0.23211441, 0.33835826, 0.35168142, 0.42710032,\n",
       "        0.40548263, 0.49764247, 0.47635651, 0.5452178 , 0.49957175,\n",
       "        0.23584576, 0.24093208, 0.32829418, 0.31178966, 0.38464804,\n",
       "        0.39859676, 0.42290626, 0.39495482, 0.50776072, 0.47690921,\n",
       "        0.2377759 , 0.23085823, 0.31418738, 0.33418679, 0.39751844,\n",
       "        0.38495317, 0.47240901, 0.45634866, 0.50218301, 0.4684257 ,\n",
       "        0.25720854, 0.24646068, 0.31286225, 0.31249056, 0.37704005,\n",
       "        0.38029642, 0.46510248, 0.43836288, 0.4793817 , 0.48167505,\n",
       "        0.25513306, 0.23885341, 0.34352102, 0.37715163, 0.38121562,\n",
       "        0.37357469, 0.45826144, 0.41942434, 0.55508094, 0.46613345,\n",
       "        0.27207408, 0.25175781, 0.34933305, 0.36889801, 0.38830314,\n",
       "        0.42680936, 0.42102742, 0.41250162, 0.50774736, 0.48042827,\n",
       "        0.24335303, 0.24969802, 0.34465342, 0.33035235, 0.3813972 ,\n",
       "        0.37649817, 0.40738463, 0.40347981, 0.46944084, 0.62853107,\n",
       "        0.24813037, 0.23853698, 0.36580954, 0.30418348, 0.36426716,\n",
       "        0.35559359, 0.45879354, 0.41487093, 0.48117599, 0.47312241,\n",
       "        0.23302531, 0.25521846, 0.31316161, 0.30914679, 0.3945981 ,\n",
       "        0.36093087, 0.43010736, 0.40688601, 0.48359151, 0.4512836 ,\n",
       "        0.23665051, 0.24003611, 0.30942497, 0.31108689, 0.38397617,\n",
       "        0.36589651, 0.45824838, 0.40812082, 0.46111293, 0.47086282,\n",
       "        0.23597875, 0.24045701, 0.31909599, 0.3104188 , 0.38964701,\n",
       "        0.35987639, 0.45143132, 0.4635469 , 0.49123707, 0.47186556,\n",
       "        0.23944602, 0.24739389, 0.30973291, 0.31812091, 0.38058286,\n",
       "        0.36659341, 0.45002627, 0.41453495, 0.50405731, 0.5429256 ,\n",
       "        0.24969292, 0.24741597, 0.31435633, 0.30102868, 0.36432123,\n",
       "        0.38220797, 0.45078487, 0.41996245, 0.50900574, 0.40672565]),\n",
       " 'std_score_time': array([0.03354772, 0.04113711, 0.02382694, 0.04567335, 0.04837621,\n",
       "        0.06985549, 0.03872427, 0.06522196, 0.03210386, 0.08408962,\n",
       "        0.02602557, 0.03747452, 0.04511843, 0.03151088, 0.05468517,\n",
       "        0.03622671, 0.04093093, 0.02583308, 0.04047078, 0.05808194,\n",
       "        0.02353038, 0.02249566, 0.01769285, 0.04400058, 0.04738281,\n",
       "        0.02360054, 0.04416534, 0.06208585, 0.05353777, 0.03369649,\n",
       "        0.00402618, 0.00987037, 0.00916124, 0.01756902, 0.03621318,\n",
       "        0.0722923 , 0.03052198, 0.01805105, 0.05082301, 0.05675911,\n",
       "        0.00529502, 0.00623554, 0.02601149, 0.03795414, 0.05154259,\n",
       "        0.04891491, 0.04708831, 0.05736335, 0.06401145, 0.02705052,\n",
       "        0.02199627, 0.01185783, 0.01190439, 0.00832942, 0.02171302,\n",
       "        0.02152788, 0.05100901, 0.05652051, 0.03814341, 0.06889225,\n",
       "        0.01575649, 0.01741286, 0.02673437, 0.03546131, 0.04459033,\n",
       "        0.0338588 , 0.02486836, 0.03349128, 0.11220766, 0.02434891,\n",
       "        0.0142988 , 0.00983357, 0.02089696, 0.06634253, 0.02554866,\n",
       "        0.01540682, 0.0337299 , 0.02389092, 0.06728151, 0.08072048,\n",
       "        0.01294243, 0.01711542, 0.01660803, 0.03197994, 0.02566191,\n",
       "        0.02280939, 0.02004723, 0.03334309, 0.00668412, 0.08804749,\n",
       "        0.02010141, 0.00915852, 0.06211383, 0.00967602, 0.02417516,\n",
       "        0.03120346, 0.06770298, 0.0229528 , 0.03322718, 0.01923955,\n",
       "        0.00845235, 0.01083619, 0.01507475, 0.02626897, 0.03984361,\n",
       "        0.0238587 , 0.01819568, 0.02868321, 0.01512222, 0.0322502 ,\n",
       "        0.01007308, 0.00572804, 0.00906652, 0.01450644, 0.01687338,\n",
       "        0.01790911, 0.06002245, 0.03077479, 0.03235998, 0.05298503,\n",
       "        0.01006646, 0.00844667, 0.01131528, 0.0135881 , 0.02907908,\n",
       "        0.0188282 , 0.02151195, 0.10652754, 0.02083791, 0.04148588,\n",
       "        0.0183746 , 0.01121488, 0.01121061, 0.02013584, 0.02029528,\n",
       "        0.02082743, 0.02873076, 0.03071844, 0.06540525, 0.06162963,\n",
       "        0.01329697, 0.00909705, 0.0121206 , 0.00870119, 0.0144539 ,\n",
       "        0.03443087, 0.06219187, 0.03325622, 0.03225506, 0.08686087]),\n",
       " 'param_rf_clf__max_depth': masked_array(data=[1, 1, 1, 1, 1, 1, 1, 1, 1, 1, 2, 2, 2, 2, 2, 2, 2, 2,\n",
       "                    2, 2, 3, 3, 3, 3, 3, 3, 3, 3, 3, 3, 4, 4, 4, 4, 4, 4,\n",
       "                    4, 4, 4, 4, 5, 5, 5, 5, 5, 5, 5, 5, 5, 5, 6, 6, 6, 6,\n",
       "                    6, 6, 6, 6, 6, 6, 7, 7, 7, 7, 7, 7, 7, 7, 7, 7, 8, 8,\n",
       "                    8, 8, 8, 8, 8, 8, 8, 8, 9, 9, 9, 9, 9, 9, 9, 9, 9, 9,\n",
       "                    10, 10, 10, 10, 10, 10, 10, 10, 10, 10, 11, 11, 11, 11,\n",
       "                    11, 11, 11, 11, 11, 11, 12, 12, 12, 12, 12, 12, 12, 12,\n",
       "                    12, 12, 13, 13, 13, 13, 13, 13, 13, 13, 13, 13, 14, 14,\n",
       "                    14, 14, 14, 14, 14, 14, 14, 14, 15, 15, 15, 15, 15, 15,\n",
       "                    15, 15, 15, 15],\n",
       "              mask=[False, False, False, False, False, False, False, False,\n",
       "                    False, False, False, False, False, False, False, False,\n",
       "                    False, False, False, False, False, False, False, False,\n",
       "                    False, False, False, False, False, False, False, False,\n",
       "                    False, False, False, False, False, False, False, False,\n",
       "                    False, False, False, False, False, False, False, False,\n",
       "                    False, False, False, False, False, False, False, False,\n",
       "                    False, False, False, False, False, False, False, False,\n",
       "                    False, False, False, False, False, False, False, False,\n",
       "                    False, False, False, False, False, False, False, False,\n",
       "                    False, False, False, False, False, False, False, False,\n",
       "                    False, False, False, False, False, False, False, False,\n",
       "                    False, False, False, False, False, False, False, False,\n",
       "                    False, False, False, False, False, False, False, False,\n",
       "                    False, False, False, False, False, False, False, False,\n",
       "                    False, False, False, False, False, False, False, False,\n",
       "                    False, False, False, False, False, False, False, False,\n",
       "                    False, False, False, False, False, False, False, False,\n",
       "                    False, False, False, False, False, False],\n",
       "        fill_value='?',\n",
       "             dtype=object),\n",
       " 'param_rf_tfidf__ngram_range': masked_array(data=[(1, 1), (1, 1), (1, 2), (1, 2), (1, 3), (1, 3), (1, 4),\n",
       "                    (1, 4), (1, 5), (1, 5), (1, 1), (1, 1), (1, 2), (1, 2),\n",
       "                    (1, 3), (1, 3), (1, 4), (1, 4), (1, 5), (1, 5), (1, 1),\n",
       "                    (1, 1), (1, 2), (1, 2), (1, 3), (1, 3), (1, 4), (1, 4),\n",
       "                    (1, 5), (1, 5), (1, 1), (1, 1), (1, 2), (1, 2), (1, 3),\n",
       "                    (1, 3), (1, 4), (1, 4), (1, 5), (1, 5), (1, 1), (1, 1),\n",
       "                    (1, 2), (1, 2), (1, 3), (1, 3), (1, 4), (1, 4), (1, 5),\n",
       "                    (1, 5), (1, 1), (1, 1), (1, 2), (1, 2), (1, 3), (1, 3),\n",
       "                    (1, 4), (1, 4), (1, 5), (1, 5), (1, 1), (1, 1), (1, 2),\n",
       "                    (1, 2), (1, 3), (1, 3), (1, 4), (1, 4), (1, 5), (1, 5),\n",
       "                    (1, 1), (1, 1), (1, 2), (1, 2), (1, 3), (1, 3), (1, 4),\n",
       "                    (1, 4), (1, 5), (1, 5), (1, 1), (1, 1), (1, 2), (1, 2),\n",
       "                    (1, 3), (1, 3), (1, 4), (1, 4), (1, 5), (1, 5), (1, 1),\n",
       "                    (1, 1), (1, 2), (1, 2), (1, 3), (1, 3), (1, 4), (1, 4),\n",
       "                    (1, 5), (1, 5), (1, 1), (1, 1), (1, 2), (1, 2), (1, 3),\n",
       "                    (1, 3), (1, 4), (1, 4), (1, 5), (1, 5), (1, 1), (1, 1),\n",
       "                    (1, 2), (1, 2), (1, 3), (1, 3), (1, 4), (1, 4), (1, 5),\n",
       "                    (1, 5), (1, 1), (1, 1), (1, 2), (1, 2), (1, 3), (1, 3),\n",
       "                    (1, 4), (1, 4), (1, 5), (1, 5), (1, 1), (1, 1), (1, 2),\n",
       "                    (1, 2), (1, 3), (1, 3), (1, 4), (1, 4), (1, 5), (1, 5),\n",
       "                    (1, 1), (1, 1), (1, 2), (1, 2), (1, 3), (1, 3), (1, 4),\n",
       "                    (1, 4), (1, 5), (1, 5)],\n",
       "              mask=[False, False, False, False, False, False, False, False,\n",
       "                    False, False, False, False, False, False, False, False,\n",
       "                    False, False, False, False, False, False, False, False,\n",
       "                    False, False, False, False, False, False, False, False,\n",
       "                    False, False, False, False, False, False, False, False,\n",
       "                    False, False, False, False, False, False, False, False,\n",
       "                    False, False, False, False, False, False, False, False,\n",
       "                    False, False, False, False, False, False, False, False,\n",
       "                    False, False, False, False, False, False, False, False,\n",
       "                    False, False, False, False, False, False, False, False,\n",
       "                    False, False, False, False, False, False, False, False,\n",
       "                    False, False, False, False, False, False, False, False,\n",
       "                    False, False, False, False, False, False, False, False,\n",
       "                    False, False, False, False, False, False, False, False,\n",
       "                    False, False, False, False, False, False, False, False,\n",
       "                    False, False, False, False, False, False, False, False,\n",
       "                    False, False, False, False, False, False, False, False,\n",
       "                    False, False, False, False, False, False, False, False,\n",
       "                    False, False, False, False, False, False],\n",
       "        fill_value='?',\n",
       "             dtype=object),\n",
       " 'param_rf_tfidf__use_idf': masked_array(data=[True, False, True, False, True, False, True, False,\n",
       "                    True, False, True, False, True, False, True, False,\n",
       "                    True, False, True, False, True, False, True, False,\n",
       "                    True, False, True, False, True, False, True, False,\n",
       "                    True, False, True, False, True, False, True, False,\n",
       "                    True, False, True, False, True, False, True, False,\n",
       "                    True, False, True, False, True, False, True, False,\n",
       "                    True, False, True, False, True, False, True, False,\n",
       "                    True, False, True, False, True, False, True, False,\n",
       "                    True, False, True, False, True, False, True, False,\n",
       "                    True, False, True, False, True, False, True, False,\n",
       "                    True, False, True, False, True, False, True, False,\n",
       "                    True, False, True, False, True, False, True, False,\n",
       "                    True, False, True, False, True, False, True, False,\n",
       "                    True, False, True, False, True, False, True, False,\n",
       "                    True, False, True, False, True, False, True, False,\n",
       "                    True, False, True, False, True, False, True, False,\n",
       "                    True, False, True, False, True, False, True, False,\n",
       "                    True, False, True, False, True, False],\n",
       "              mask=[False, False, False, False, False, False, False, False,\n",
       "                    False, False, False, False, False, False, False, False,\n",
       "                    False, False, False, False, False, False, False, False,\n",
       "                    False, False, False, False, False, False, False, False,\n",
       "                    False, False, False, False, False, False, False, False,\n",
       "                    False, False, False, False, False, False, False, False,\n",
       "                    False, False, False, False, False, False, False, False,\n",
       "                    False, False, False, False, False, False, False, False,\n",
       "                    False, False, False, False, False, False, False, False,\n",
       "                    False, False, False, False, False, False, False, False,\n",
       "                    False, False, False, False, False, False, False, False,\n",
       "                    False, False, False, False, False, False, False, False,\n",
       "                    False, False, False, False, False, False, False, False,\n",
       "                    False, False, False, False, False, False, False, False,\n",
       "                    False, False, False, False, False, False, False, False,\n",
       "                    False, False, False, False, False, False, False, False,\n",
       "                    False, False, False, False, False, False, False, False,\n",
       "                    False, False, False, False, False, False, False, False,\n",
       "                    False, False, False, False, False, False],\n",
       "        fill_value='?',\n",
       "             dtype=object),\n",
       " 'params': [{'rf_clf__max_depth': 1,\n",
       "   'rf_tfidf__ngram_range': (1, 1),\n",
       "   'rf_tfidf__use_idf': True},\n",
       "  {'rf_clf__max_depth': 1,\n",
       "   'rf_tfidf__ngram_range': (1, 1),\n",
       "   'rf_tfidf__use_idf': False},\n",
       "  {'rf_clf__max_depth': 1,\n",
       "   'rf_tfidf__ngram_range': (1, 2),\n",
       "   'rf_tfidf__use_idf': True},\n",
       "  {'rf_clf__max_depth': 1,\n",
       "   'rf_tfidf__ngram_range': (1, 2),\n",
       "   'rf_tfidf__use_idf': False},\n",
       "  {'rf_clf__max_depth': 1,\n",
       "   'rf_tfidf__ngram_range': (1, 3),\n",
       "   'rf_tfidf__use_idf': True},\n",
       "  {'rf_clf__max_depth': 1,\n",
       "   'rf_tfidf__ngram_range': (1, 3),\n",
       "   'rf_tfidf__use_idf': False},\n",
       "  {'rf_clf__max_depth': 1,\n",
       "   'rf_tfidf__ngram_range': (1, 4),\n",
       "   'rf_tfidf__use_idf': True},\n",
       "  {'rf_clf__max_depth': 1,\n",
       "   'rf_tfidf__ngram_range': (1, 4),\n",
       "   'rf_tfidf__use_idf': False},\n",
       "  {'rf_clf__max_depth': 1,\n",
       "   'rf_tfidf__ngram_range': (1, 5),\n",
       "   'rf_tfidf__use_idf': True},\n",
       "  {'rf_clf__max_depth': 1,\n",
       "   'rf_tfidf__ngram_range': (1, 5),\n",
       "   'rf_tfidf__use_idf': False},\n",
       "  {'rf_clf__max_depth': 2,\n",
       "   'rf_tfidf__ngram_range': (1, 1),\n",
       "   'rf_tfidf__use_idf': True},\n",
       "  {'rf_clf__max_depth': 2,\n",
       "   'rf_tfidf__ngram_range': (1, 1),\n",
       "   'rf_tfidf__use_idf': False},\n",
       "  {'rf_clf__max_depth': 2,\n",
       "   'rf_tfidf__ngram_range': (1, 2),\n",
       "   'rf_tfidf__use_idf': True},\n",
       "  {'rf_clf__max_depth': 2,\n",
       "   'rf_tfidf__ngram_range': (1, 2),\n",
       "   'rf_tfidf__use_idf': False},\n",
       "  {'rf_clf__max_depth': 2,\n",
       "   'rf_tfidf__ngram_range': (1, 3),\n",
       "   'rf_tfidf__use_idf': True},\n",
       "  {'rf_clf__max_depth': 2,\n",
       "   'rf_tfidf__ngram_range': (1, 3),\n",
       "   'rf_tfidf__use_idf': False},\n",
       "  {'rf_clf__max_depth': 2,\n",
       "   'rf_tfidf__ngram_range': (1, 4),\n",
       "   'rf_tfidf__use_idf': True},\n",
       "  {'rf_clf__max_depth': 2,\n",
       "   'rf_tfidf__ngram_range': (1, 4),\n",
       "   'rf_tfidf__use_idf': False},\n",
       "  {'rf_clf__max_depth': 2,\n",
       "   'rf_tfidf__ngram_range': (1, 5),\n",
       "   'rf_tfidf__use_idf': True},\n",
       "  {'rf_clf__max_depth': 2,\n",
       "   'rf_tfidf__ngram_range': (1, 5),\n",
       "   'rf_tfidf__use_idf': False},\n",
       "  {'rf_clf__max_depth': 3,\n",
       "   'rf_tfidf__ngram_range': (1, 1),\n",
       "   'rf_tfidf__use_idf': True},\n",
       "  {'rf_clf__max_depth': 3,\n",
       "   'rf_tfidf__ngram_range': (1, 1),\n",
       "   'rf_tfidf__use_idf': False},\n",
       "  {'rf_clf__max_depth': 3,\n",
       "   'rf_tfidf__ngram_range': (1, 2),\n",
       "   'rf_tfidf__use_idf': True},\n",
       "  {'rf_clf__max_depth': 3,\n",
       "   'rf_tfidf__ngram_range': (1, 2),\n",
       "   'rf_tfidf__use_idf': False},\n",
       "  {'rf_clf__max_depth': 3,\n",
       "   'rf_tfidf__ngram_range': (1, 3),\n",
       "   'rf_tfidf__use_idf': True},\n",
       "  {'rf_clf__max_depth': 3,\n",
       "   'rf_tfidf__ngram_range': (1, 3),\n",
       "   'rf_tfidf__use_idf': False},\n",
       "  {'rf_clf__max_depth': 3,\n",
       "   'rf_tfidf__ngram_range': (1, 4),\n",
       "   'rf_tfidf__use_idf': True},\n",
       "  {'rf_clf__max_depth': 3,\n",
       "   'rf_tfidf__ngram_range': (1, 4),\n",
       "   'rf_tfidf__use_idf': False},\n",
       "  {'rf_clf__max_depth': 3,\n",
       "   'rf_tfidf__ngram_range': (1, 5),\n",
       "   'rf_tfidf__use_idf': True},\n",
       "  {'rf_clf__max_depth': 3,\n",
       "   'rf_tfidf__ngram_range': (1, 5),\n",
       "   'rf_tfidf__use_idf': False},\n",
       "  {'rf_clf__max_depth': 4,\n",
       "   'rf_tfidf__ngram_range': (1, 1),\n",
       "   'rf_tfidf__use_idf': True},\n",
       "  {'rf_clf__max_depth': 4,\n",
       "   'rf_tfidf__ngram_range': (1, 1),\n",
       "   'rf_tfidf__use_idf': False},\n",
       "  {'rf_clf__max_depth': 4,\n",
       "   'rf_tfidf__ngram_range': (1, 2),\n",
       "   'rf_tfidf__use_idf': True},\n",
       "  {'rf_clf__max_depth': 4,\n",
       "   'rf_tfidf__ngram_range': (1, 2),\n",
       "   'rf_tfidf__use_idf': False},\n",
       "  {'rf_clf__max_depth': 4,\n",
       "   'rf_tfidf__ngram_range': (1, 3),\n",
       "   'rf_tfidf__use_idf': True},\n",
       "  {'rf_clf__max_depth': 4,\n",
       "   'rf_tfidf__ngram_range': (1, 3),\n",
       "   'rf_tfidf__use_idf': False},\n",
       "  {'rf_clf__max_depth': 4,\n",
       "   'rf_tfidf__ngram_range': (1, 4),\n",
       "   'rf_tfidf__use_idf': True},\n",
       "  {'rf_clf__max_depth': 4,\n",
       "   'rf_tfidf__ngram_range': (1, 4),\n",
       "   'rf_tfidf__use_idf': False},\n",
       "  {'rf_clf__max_depth': 4,\n",
       "   'rf_tfidf__ngram_range': (1, 5),\n",
       "   'rf_tfidf__use_idf': True},\n",
       "  {'rf_clf__max_depth': 4,\n",
       "   'rf_tfidf__ngram_range': (1, 5),\n",
       "   'rf_tfidf__use_idf': False},\n",
       "  {'rf_clf__max_depth': 5,\n",
       "   'rf_tfidf__ngram_range': (1, 1),\n",
       "   'rf_tfidf__use_idf': True},\n",
       "  {'rf_clf__max_depth': 5,\n",
       "   'rf_tfidf__ngram_range': (1, 1),\n",
       "   'rf_tfidf__use_idf': False},\n",
       "  {'rf_clf__max_depth': 5,\n",
       "   'rf_tfidf__ngram_range': (1, 2),\n",
       "   'rf_tfidf__use_idf': True},\n",
       "  {'rf_clf__max_depth': 5,\n",
       "   'rf_tfidf__ngram_range': (1, 2),\n",
       "   'rf_tfidf__use_idf': False},\n",
       "  {'rf_clf__max_depth': 5,\n",
       "   'rf_tfidf__ngram_range': (1, 3),\n",
       "   'rf_tfidf__use_idf': True},\n",
       "  {'rf_clf__max_depth': 5,\n",
       "   'rf_tfidf__ngram_range': (1, 3),\n",
       "   'rf_tfidf__use_idf': False},\n",
       "  {'rf_clf__max_depth': 5,\n",
       "   'rf_tfidf__ngram_range': (1, 4),\n",
       "   'rf_tfidf__use_idf': True},\n",
       "  {'rf_clf__max_depth': 5,\n",
       "   'rf_tfidf__ngram_range': (1, 4),\n",
       "   'rf_tfidf__use_idf': False},\n",
       "  {'rf_clf__max_depth': 5,\n",
       "   'rf_tfidf__ngram_range': (1, 5),\n",
       "   'rf_tfidf__use_idf': True},\n",
       "  {'rf_clf__max_depth': 5,\n",
       "   'rf_tfidf__ngram_range': (1, 5),\n",
       "   'rf_tfidf__use_idf': False},\n",
       "  {'rf_clf__max_depth': 6,\n",
       "   'rf_tfidf__ngram_range': (1, 1),\n",
       "   'rf_tfidf__use_idf': True},\n",
       "  {'rf_clf__max_depth': 6,\n",
       "   'rf_tfidf__ngram_range': (1, 1),\n",
       "   'rf_tfidf__use_idf': False},\n",
       "  {'rf_clf__max_depth': 6,\n",
       "   'rf_tfidf__ngram_range': (1, 2),\n",
       "   'rf_tfidf__use_idf': True},\n",
       "  {'rf_clf__max_depth': 6,\n",
       "   'rf_tfidf__ngram_range': (1, 2),\n",
       "   'rf_tfidf__use_idf': False},\n",
       "  {'rf_clf__max_depth': 6,\n",
       "   'rf_tfidf__ngram_range': (1, 3),\n",
       "   'rf_tfidf__use_idf': True},\n",
       "  {'rf_clf__max_depth': 6,\n",
       "   'rf_tfidf__ngram_range': (1, 3),\n",
       "   'rf_tfidf__use_idf': False},\n",
       "  {'rf_clf__max_depth': 6,\n",
       "   'rf_tfidf__ngram_range': (1, 4),\n",
       "   'rf_tfidf__use_idf': True},\n",
       "  {'rf_clf__max_depth': 6,\n",
       "   'rf_tfidf__ngram_range': (1, 4),\n",
       "   'rf_tfidf__use_idf': False},\n",
       "  {'rf_clf__max_depth': 6,\n",
       "   'rf_tfidf__ngram_range': (1, 5),\n",
       "   'rf_tfidf__use_idf': True},\n",
       "  {'rf_clf__max_depth': 6,\n",
       "   'rf_tfidf__ngram_range': (1, 5),\n",
       "   'rf_tfidf__use_idf': False},\n",
       "  {'rf_clf__max_depth': 7,\n",
       "   'rf_tfidf__ngram_range': (1, 1),\n",
       "   'rf_tfidf__use_idf': True},\n",
       "  {'rf_clf__max_depth': 7,\n",
       "   'rf_tfidf__ngram_range': (1, 1),\n",
       "   'rf_tfidf__use_idf': False},\n",
       "  {'rf_clf__max_depth': 7,\n",
       "   'rf_tfidf__ngram_range': (1, 2),\n",
       "   'rf_tfidf__use_idf': True},\n",
       "  {'rf_clf__max_depth': 7,\n",
       "   'rf_tfidf__ngram_range': (1, 2),\n",
       "   'rf_tfidf__use_idf': False},\n",
       "  {'rf_clf__max_depth': 7,\n",
       "   'rf_tfidf__ngram_range': (1, 3),\n",
       "   'rf_tfidf__use_idf': True},\n",
       "  {'rf_clf__max_depth': 7,\n",
       "   'rf_tfidf__ngram_range': (1, 3),\n",
       "   'rf_tfidf__use_idf': False},\n",
       "  {'rf_clf__max_depth': 7,\n",
       "   'rf_tfidf__ngram_range': (1, 4),\n",
       "   'rf_tfidf__use_idf': True},\n",
       "  {'rf_clf__max_depth': 7,\n",
       "   'rf_tfidf__ngram_range': (1, 4),\n",
       "   'rf_tfidf__use_idf': False},\n",
       "  {'rf_clf__max_depth': 7,\n",
       "   'rf_tfidf__ngram_range': (1, 5),\n",
       "   'rf_tfidf__use_idf': True},\n",
       "  {'rf_clf__max_depth': 7,\n",
       "   'rf_tfidf__ngram_range': (1, 5),\n",
       "   'rf_tfidf__use_idf': False},\n",
       "  {'rf_clf__max_depth': 8,\n",
       "   'rf_tfidf__ngram_range': (1, 1),\n",
       "   'rf_tfidf__use_idf': True},\n",
       "  {'rf_clf__max_depth': 8,\n",
       "   'rf_tfidf__ngram_range': (1, 1),\n",
       "   'rf_tfidf__use_idf': False},\n",
       "  {'rf_clf__max_depth': 8,\n",
       "   'rf_tfidf__ngram_range': (1, 2),\n",
       "   'rf_tfidf__use_idf': True},\n",
       "  {'rf_clf__max_depth': 8,\n",
       "   'rf_tfidf__ngram_range': (1, 2),\n",
       "   'rf_tfidf__use_idf': False},\n",
       "  {'rf_clf__max_depth': 8,\n",
       "   'rf_tfidf__ngram_range': (1, 3),\n",
       "   'rf_tfidf__use_idf': True},\n",
       "  {'rf_clf__max_depth': 8,\n",
       "   'rf_tfidf__ngram_range': (1, 3),\n",
       "   'rf_tfidf__use_idf': False},\n",
       "  {'rf_clf__max_depth': 8,\n",
       "   'rf_tfidf__ngram_range': (1, 4),\n",
       "   'rf_tfidf__use_idf': True},\n",
       "  {'rf_clf__max_depth': 8,\n",
       "   'rf_tfidf__ngram_range': (1, 4),\n",
       "   'rf_tfidf__use_idf': False},\n",
       "  {'rf_clf__max_depth': 8,\n",
       "   'rf_tfidf__ngram_range': (1, 5),\n",
       "   'rf_tfidf__use_idf': True},\n",
       "  {'rf_clf__max_depth': 8,\n",
       "   'rf_tfidf__ngram_range': (1, 5),\n",
       "   'rf_tfidf__use_idf': False},\n",
       "  {'rf_clf__max_depth': 9,\n",
       "   'rf_tfidf__ngram_range': (1, 1),\n",
       "   'rf_tfidf__use_idf': True},\n",
       "  {'rf_clf__max_depth': 9,\n",
       "   'rf_tfidf__ngram_range': (1, 1),\n",
       "   'rf_tfidf__use_idf': False},\n",
       "  {'rf_clf__max_depth': 9,\n",
       "   'rf_tfidf__ngram_range': (1, 2),\n",
       "   'rf_tfidf__use_idf': True},\n",
       "  {'rf_clf__max_depth': 9,\n",
       "   'rf_tfidf__ngram_range': (1, 2),\n",
       "   'rf_tfidf__use_idf': False},\n",
       "  {'rf_clf__max_depth': 9,\n",
       "   'rf_tfidf__ngram_range': (1, 3),\n",
       "   'rf_tfidf__use_idf': True},\n",
       "  {'rf_clf__max_depth': 9,\n",
       "   'rf_tfidf__ngram_range': (1, 3),\n",
       "   'rf_tfidf__use_idf': False},\n",
       "  {'rf_clf__max_depth': 9,\n",
       "   'rf_tfidf__ngram_range': (1, 4),\n",
       "   'rf_tfidf__use_idf': True},\n",
       "  {'rf_clf__max_depth': 9,\n",
       "   'rf_tfidf__ngram_range': (1, 4),\n",
       "   'rf_tfidf__use_idf': False},\n",
       "  {'rf_clf__max_depth': 9,\n",
       "   'rf_tfidf__ngram_range': (1, 5),\n",
       "   'rf_tfidf__use_idf': True},\n",
       "  {'rf_clf__max_depth': 9,\n",
       "   'rf_tfidf__ngram_range': (1, 5),\n",
       "   'rf_tfidf__use_idf': False},\n",
       "  {'rf_clf__max_depth': 10,\n",
       "   'rf_tfidf__ngram_range': (1, 1),\n",
       "   'rf_tfidf__use_idf': True},\n",
       "  {'rf_clf__max_depth': 10,\n",
       "   'rf_tfidf__ngram_range': (1, 1),\n",
       "   'rf_tfidf__use_idf': False},\n",
       "  {'rf_clf__max_depth': 10,\n",
       "   'rf_tfidf__ngram_range': (1, 2),\n",
       "   'rf_tfidf__use_idf': True},\n",
       "  {'rf_clf__max_depth': 10,\n",
       "   'rf_tfidf__ngram_range': (1, 2),\n",
       "   'rf_tfidf__use_idf': False},\n",
       "  {'rf_clf__max_depth': 10,\n",
       "   'rf_tfidf__ngram_range': (1, 3),\n",
       "   'rf_tfidf__use_idf': True},\n",
       "  {'rf_clf__max_depth': 10,\n",
       "   'rf_tfidf__ngram_range': (1, 3),\n",
       "   'rf_tfidf__use_idf': False},\n",
       "  {'rf_clf__max_depth': 10,\n",
       "   'rf_tfidf__ngram_range': (1, 4),\n",
       "   'rf_tfidf__use_idf': True},\n",
       "  {'rf_clf__max_depth': 10,\n",
       "   'rf_tfidf__ngram_range': (1, 4),\n",
       "   'rf_tfidf__use_idf': False},\n",
       "  {'rf_clf__max_depth': 10,\n",
       "   'rf_tfidf__ngram_range': (1, 5),\n",
       "   'rf_tfidf__use_idf': True},\n",
       "  {'rf_clf__max_depth': 10,\n",
       "   'rf_tfidf__ngram_range': (1, 5),\n",
       "   'rf_tfidf__use_idf': False},\n",
       "  {'rf_clf__max_depth': 11,\n",
       "   'rf_tfidf__ngram_range': (1, 1),\n",
       "   'rf_tfidf__use_idf': True},\n",
       "  {'rf_clf__max_depth': 11,\n",
       "   'rf_tfidf__ngram_range': (1, 1),\n",
       "   'rf_tfidf__use_idf': False},\n",
       "  {'rf_clf__max_depth': 11,\n",
       "   'rf_tfidf__ngram_range': (1, 2),\n",
       "   'rf_tfidf__use_idf': True},\n",
       "  {'rf_clf__max_depth': 11,\n",
       "   'rf_tfidf__ngram_range': (1, 2),\n",
       "   'rf_tfidf__use_idf': False},\n",
       "  {'rf_clf__max_depth': 11,\n",
       "   'rf_tfidf__ngram_range': (1, 3),\n",
       "   'rf_tfidf__use_idf': True},\n",
       "  {'rf_clf__max_depth': 11,\n",
       "   'rf_tfidf__ngram_range': (1, 3),\n",
       "   'rf_tfidf__use_idf': False},\n",
       "  {'rf_clf__max_depth': 11,\n",
       "   'rf_tfidf__ngram_range': (1, 4),\n",
       "   'rf_tfidf__use_idf': True},\n",
       "  {'rf_clf__max_depth': 11,\n",
       "   'rf_tfidf__ngram_range': (1, 4),\n",
       "   'rf_tfidf__use_idf': False},\n",
       "  {'rf_clf__max_depth': 11,\n",
       "   'rf_tfidf__ngram_range': (1, 5),\n",
       "   'rf_tfidf__use_idf': True},\n",
       "  {'rf_clf__max_depth': 11,\n",
       "   'rf_tfidf__ngram_range': (1, 5),\n",
       "   'rf_tfidf__use_idf': False},\n",
       "  {'rf_clf__max_depth': 12,\n",
       "   'rf_tfidf__ngram_range': (1, 1),\n",
       "   'rf_tfidf__use_idf': True},\n",
       "  {'rf_clf__max_depth': 12,\n",
       "   'rf_tfidf__ngram_range': (1, 1),\n",
       "   'rf_tfidf__use_idf': False},\n",
       "  {'rf_clf__max_depth': 12,\n",
       "   'rf_tfidf__ngram_range': (1, 2),\n",
       "   'rf_tfidf__use_idf': True},\n",
       "  {'rf_clf__max_depth': 12,\n",
       "   'rf_tfidf__ngram_range': (1, 2),\n",
       "   'rf_tfidf__use_idf': False},\n",
       "  {'rf_clf__max_depth': 12,\n",
       "   'rf_tfidf__ngram_range': (1, 3),\n",
       "   'rf_tfidf__use_idf': True},\n",
       "  {'rf_clf__max_depth': 12,\n",
       "   'rf_tfidf__ngram_range': (1, 3),\n",
       "   'rf_tfidf__use_idf': False},\n",
       "  {'rf_clf__max_depth': 12,\n",
       "   'rf_tfidf__ngram_range': (1, 4),\n",
       "   'rf_tfidf__use_idf': True},\n",
       "  {'rf_clf__max_depth': 12,\n",
       "   'rf_tfidf__ngram_range': (1, 4),\n",
       "   'rf_tfidf__use_idf': False},\n",
       "  {'rf_clf__max_depth': 12,\n",
       "   'rf_tfidf__ngram_range': (1, 5),\n",
       "   'rf_tfidf__use_idf': True},\n",
       "  {'rf_clf__max_depth': 12,\n",
       "   'rf_tfidf__ngram_range': (1, 5),\n",
       "   'rf_tfidf__use_idf': False},\n",
       "  {'rf_clf__max_depth': 13,\n",
       "   'rf_tfidf__ngram_range': (1, 1),\n",
       "   'rf_tfidf__use_idf': True},\n",
       "  {'rf_clf__max_depth': 13,\n",
       "   'rf_tfidf__ngram_range': (1, 1),\n",
       "   'rf_tfidf__use_idf': False},\n",
       "  {'rf_clf__max_depth': 13,\n",
       "   'rf_tfidf__ngram_range': (1, 2),\n",
       "   'rf_tfidf__use_idf': True},\n",
       "  {'rf_clf__max_depth': 13,\n",
       "   'rf_tfidf__ngram_range': (1, 2),\n",
       "   'rf_tfidf__use_idf': False},\n",
       "  {'rf_clf__max_depth': 13,\n",
       "   'rf_tfidf__ngram_range': (1, 3),\n",
       "   'rf_tfidf__use_idf': True},\n",
       "  {'rf_clf__max_depth': 13,\n",
       "   'rf_tfidf__ngram_range': (1, 3),\n",
       "   'rf_tfidf__use_idf': False},\n",
       "  {'rf_clf__max_depth': 13,\n",
       "   'rf_tfidf__ngram_range': (1, 4),\n",
       "   'rf_tfidf__use_idf': True},\n",
       "  {'rf_clf__max_depth': 13,\n",
       "   'rf_tfidf__ngram_range': (1, 4),\n",
       "   'rf_tfidf__use_idf': False},\n",
       "  {'rf_clf__max_depth': 13,\n",
       "   'rf_tfidf__ngram_range': (1, 5),\n",
       "   'rf_tfidf__use_idf': True},\n",
       "  {'rf_clf__max_depth': 13,\n",
       "   'rf_tfidf__ngram_range': (1, 5),\n",
       "   'rf_tfidf__use_idf': False},\n",
       "  {'rf_clf__max_depth': 14,\n",
       "   'rf_tfidf__ngram_range': (1, 1),\n",
       "   'rf_tfidf__use_idf': True},\n",
       "  {'rf_clf__max_depth': 14,\n",
       "   'rf_tfidf__ngram_range': (1, 1),\n",
       "   'rf_tfidf__use_idf': False},\n",
       "  {'rf_clf__max_depth': 14,\n",
       "   'rf_tfidf__ngram_range': (1, 2),\n",
       "   'rf_tfidf__use_idf': True},\n",
       "  {'rf_clf__max_depth': 14,\n",
       "   'rf_tfidf__ngram_range': (1, 2),\n",
       "   'rf_tfidf__use_idf': False},\n",
       "  {'rf_clf__max_depth': 14,\n",
       "   'rf_tfidf__ngram_range': (1, 3),\n",
       "   'rf_tfidf__use_idf': True},\n",
       "  {'rf_clf__max_depth': 14,\n",
       "   'rf_tfidf__ngram_range': (1, 3),\n",
       "   'rf_tfidf__use_idf': False},\n",
       "  {'rf_clf__max_depth': 14,\n",
       "   'rf_tfidf__ngram_range': (1, 4),\n",
       "   'rf_tfidf__use_idf': True},\n",
       "  {'rf_clf__max_depth': 14,\n",
       "   'rf_tfidf__ngram_range': (1, 4),\n",
       "   'rf_tfidf__use_idf': False},\n",
       "  {'rf_clf__max_depth': 14,\n",
       "   'rf_tfidf__ngram_range': (1, 5),\n",
       "   'rf_tfidf__use_idf': True},\n",
       "  {'rf_clf__max_depth': 14,\n",
       "   'rf_tfidf__ngram_range': (1, 5),\n",
       "   'rf_tfidf__use_idf': False},\n",
       "  {'rf_clf__max_depth': 15,\n",
       "   'rf_tfidf__ngram_range': (1, 1),\n",
       "   'rf_tfidf__use_idf': True},\n",
       "  {'rf_clf__max_depth': 15,\n",
       "   'rf_tfidf__ngram_range': (1, 1),\n",
       "   'rf_tfidf__use_idf': False},\n",
       "  {'rf_clf__max_depth': 15,\n",
       "   'rf_tfidf__ngram_range': (1, 2),\n",
       "   'rf_tfidf__use_idf': True},\n",
       "  {'rf_clf__max_depth': 15,\n",
       "   'rf_tfidf__ngram_range': (1, 2),\n",
       "   'rf_tfidf__use_idf': False},\n",
       "  {'rf_clf__max_depth': 15,\n",
       "   'rf_tfidf__ngram_range': (1, 3),\n",
       "   'rf_tfidf__use_idf': True},\n",
       "  {'rf_clf__max_depth': 15,\n",
       "   'rf_tfidf__ngram_range': (1, 3),\n",
       "   'rf_tfidf__use_idf': False},\n",
       "  {'rf_clf__max_depth': 15,\n",
       "   'rf_tfidf__ngram_range': (1, 4),\n",
       "   'rf_tfidf__use_idf': True},\n",
       "  {'rf_clf__max_depth': 15,\n",
       "   'rf_tfidf__ngram_range': (1, 4),\n",
       "   'rf_tfidf__use_idf': False},\n",
       "  {'rf_clf__max_depth': 15,\n",
       "   'rf_tfidf__ngram_range': (1, 5),\n",
       "   'rf_tfidf__use_idf': True},\n",
       "  {'rf_clf__max_depth': 15,\n",
       "   'rf_tfidf__ngram_range': (1, 5),\n",
       "   'rf_tfidf__use_idf': False}],\n",
       " 'split0_test_score': array([0.561 , 0.561 , 0.561 , 0.561 , 0.561 , 0.561 , 0.561 , 0.561 ,\n",
       "        0.561 , 0.561 , 0.561 , 0.561 , 0.561 , 0.561 , 0.561 , 0.561 ,\n",
       "        0.561 , 0.561 , 0.561 , 0.561 , 0.561 , 0.561 , 0.561 , 0.561 ,\n",
       "        0.561 , 0.561 , 0.561 , 0.561 , 0.561 , 0.561 , 0.561 , 0.561 ,\n",
       "        0.561 , 0.561 , 0.561 , 0.561 , 0.561 , 0.561 , 0.561 , 0.561 ,\n",
       "        0.561 , 0.561 , 0.561 , 0.561 , 0.561 , 0.561 , 0.561 , 0.561 ,\n",
       "        0.561 , 0.561 , 0.561 , 0.561 , 0.5605, 0.561 , 0.561 , 0.561 ,\n",
       "        0.5605, 0.561 , 0.5615, 0.561 , 0.561 , 0.561 , 0.5605, 0.561 ,\n",
       "        0.561 , 0.561 , 0.561 , 0.561 , 0.561 , 0.561 , 0.561 , 0.561 ,\n",
       "        0.561 , 0.561 , 0.5615, 0.5605, 0.561 , 0.561 , 0.5615, 0.561 ,\n",
       "        0.5605, 0.561 , 0.5615, 0.5605, 0.5615, 0.5615, 0.5605, 0.561 ,\n",
       "        0.561 , 0.5605, 0.5605, 0.562 , 0.5615, 0.5615, 0.5615, 0.562 ,\n",
       "        0.5615, 0.5615, 0.5615, 0.561 , 0.5595, 0.56  , 0.562 , 0.5615,\n",
       "        0.5635, 0.5615, 0.562 , 0.5615, 0.561 , 0.561 , 0.5625, 0.56  ,\n",
       "        0.563 , 0.5615, 0.563 , 0.562 , 0.5625, 0.563 , 0.5615, 0.5615,\n",
       "        0.5595, 0.5595, 0.562 , 0.563 , 0.564 , 0.5625, 0.5625, 0.561 ,\n",
       "        0.562 , 0.562 , 0.562 , 0.561 , 0.562 , 0.5615, 0.564 , 0.563 ,\n",
       "        0.5625, 0.561 , 0.562 , 0.562 , 0.563 , 0.564 , 0.5645, 0.5635,\n",
       "        0.5635, 0.562 , 0.5645, 0.5635, 0.5625, 0.5615]),\n",
       " 'split1_test_score': array([0.561 , 0.561 , 0.561 , 0.561 , 0.561 , 0.561 , 0.561 , 0.561 ,\n",
       "        0.561 , 0.561 , 0.561 , 0.561 , 0.561 , 0.561 , 0.561 , 0.561 ,\n",
       "        0.561 , 0.561 , 0.561 , 0.561 , 0.561 , 0.561 , 0.561 , 0.561 ,\n",
       "        0.561 , 0.561 , 0.561 , 0.561 , 0.561 , 0.561 , 0.561 , 0.561 ,\n",
       "        0.561 , 0.561 , 0.561 , 0.561 , 0.561 , 0.561 , 0.561 , 0.561 ,\n",
       "        0.561 , 0.561 , 0.561 , 0.561 , 0.561 , 0.561 , 0.561 , 0.561 ,\n",
       "        0.561 , 0.561 , 0.561 , 0.561 , 0.561 , 0.561 , 0.561 , 0.561 ,\n",
       "        0.561 , 0.561 , 0.561 , 0.561 , 0.561 , 0.561 , 0.561 , 0.561 ,\n",
       "        0.561 , 0.561 , 0.561 , 0.561 , 0.561 , 0.561 , 0.562 , 0.561 ,\n",
       "        0.561 , 0.561 , 0.561 , 0.561 , 0.561 , 0.561 , 0.561 , 0.561 ,\n",
       "        0.562 , 0.561 , 0.561 , 0.561 , 0.561 , 0.561 , 0.5615, 0.561 ,\n",
       "        0.561 , 0.561 , 0.561 , 0.562 , 0.5615, 0.562 , 0.562 , 0.561 ,\n",
       "        0.561 , 0.5615, 0.561 , 0.561 , 0.561 , 0.5625, 0.562 , 0.563 ,\n",
       "        0.5645, 0.5615, 0.562 , 0.562 , 0.562 , 0.561 , 0.5635, 0.564 ,\n",
       "        0.5625, 0.563 , 0.5635, 0.5625, 0.563 , 0.5615, 0.561 , 0.562 ,\n",
       "        0.5635, 0.5645, 0.562 , 0.5615, 0.564 , 0.564 , 0.5625, 0.562 ,\n",
       "        0.564 , 0.5625, 0.5655, 0.565 , 0.564 , 0.564 , 0.566 , 0.5635,\n",
       "        0.563 , 0.5635, 0.5635, 0.5635, 0.567 , 0.5695, 0.5655, 0.5665,\n",
       "        0.5645, 0.5665, 0.563 , 0.565 , 0.564 , 0.563 ]),\n",
       " 'split2_test_score': array([0.561 , 0.561 , 0.561 , 0.561 , 0.561 , 0.561 , 0.561 , 0.561 ,\n",
       "        0.561 , 0.561 , 0.561 , 0.561 , 0.561 , 0.561 , 0.561 , 0.561 ,\n",
       "        0.561 , 0.561 , 0.561 , 0.561 , 0.561 , 0.561 , 0.561 , 0.561 ,\n",
       "        0.561 , 0.561 , 0.561 , 0.561 , 0.561 , 0.561 , 0.561 , 0.561 ,\n",
       "        0.561 , 0.561 , 0.561 , 0.561 , 0.561 , 0.561 , 0.561 , 0.561 ,\n",
       "        0.561 , 0.561 , 0.561 , 0.561 , 0.561 , 0.561 , 0.561 , 0.561 ,\n",
       "        0.561 , 0.561 , 0.561 , 0.561 , 0.561 , 0.561 , 0.5615, 0.561 ,\n",
       "        0.561 , 0.561 , 0.561 , 0.561 , 0.56  , 0.561 , 0.5615, 0.561 ,\n",
       "        0.5615, 0.5615, 0.561 , 0.561 , 0.5615, 0.561 , 0.561 , 0.5605,\n",
       "        0.562 , 0.5615, 0.5605, 0.561 , 0.5615, 0.561 , 0.5615, 0.561 ,\n",
       "        0.5595, 0.561 , 0.564 , 0.561 , 0.565 , 0.5625, 0.5615, 0.5615,\n",
       "        0.5615, 0.5615, 0.5625, 0.562 , 0.5655, 0.5625, 0.5605, 0.563 ,\n",
       "        0.5625, 0.563 , 0.563 , 0.562 , 0.566 , 0.5645, 0.5645, 0.5615,\n",
       "        0.5625, 0.5635, 0.5635, 0.5615, 0.562 , 0.563 , 0.565 , 0.5655,\n",
       "        0.56  , 0.5615, 0.562 , 0.5635, 0.5605, 0.563 , 0.5625, 0.5625,\n",
       "        0.5665, 0.5685, 0.564 , 0.565 , 0.564 , 0.5655, 0.5625, 0.559 ,\n",
       "        0.566 , 0.561 , 0.5695, 0.567 , 0.568 , 0.5635, 0.5625, 0.5635,\n",
       "        0.5615, 0.5615, 0.56  , 0.563 , 0.5705, 0.5695, 0.5665, 0.565 ,\n",
       "        0.565 , 0.5645, 0.563 , 0.564 , 0.5635, 0.5625]),\n",
       " 'split3_test_score': array([0.561 , 0.561 , 0.561 , 0.561 , 0.561 , 0.561 , 0.561 , 0.561 ,\n",
       "        0.561 , 0.561 , 0.561 , 0.561 , 0.561 , 0.561 , 0.561 , 0.561 ,\n",
       "        0.561 , 0.561 , 0.561 , 0.561 , 0.561 , 0.561 , 0.561 , 0.561 ,\n",
       "        0.561 , 0.561 , 0.561 , 0.561 , 0.561 , 0.561 , 0.561 , 0.561 ,\n",
       "        0.561 , 0.561 , 0.561 , 0.561 , 0.561 , 0.561 , 0.561 , 0.561 ,\n",
       "        0.561 , 0.561 , 0.561 , 0.561 , 0.561 , 0.561 , 0.561 , 0.561 ,\n",
       "        0.561 , 0.561 , 0.561 , 0.561 , 0.561 , 0.561 , 0.561 , 0.561 ,\n",
       "        0.561 , 0.561 , 0.561 , 0.561 , 0.5615, 0.561 , 0.561 , 0.5615,\n",
       "        0.561 , 0.561 , 0.561 , 0.561 , 0.561 , 0.561 , 0.5605, 0.561 ,\n",
       "        0.561 , 0.561 , 0.561 , 0.561 , 0.561 , 0.561 , 0.561 , 0.561 ,\n",
       "        0.5615, 0.562 , 0.5615, 0.5615, 0.5615, 0.561 , 0.562 , 0.561 ,\n",
       "        0.562 , 0.561 , 0.5615, 0.5615, 0.561 , 0.5625, 0.561 , 0.562 ,\n",
       "        0.561 , 0.562 , 0.562 , 0.561 , 0.562 , 0.5625, 0.5605, 0.562 ,\n",
       "        0.562 , 0.562 , 0.5625, 0.5625, 0.563 , 0.562 , 0.566 , 0.564 ,\n",
       "        0.5635, 0.563 , 0.5645, 0.564 , 0.563 , 0.562 , 0.563 , 0.5625,\n",
       "        0.5665, 0.565 , 0.565 , 0.563 , 0.5635, 0.564 , 0.5625, 0.5625,\n",
       "        0.5635, 0.5625, 0.5645, 0.567 , 0.5655, 0.5635, 0.565 , 0.564 ,\n",
       "        0.563 , 0.562 , 0.564 , 0.563 , 0.5695, 0.569 , 0.565 , 0.564 ,\n",
       "        0.563 , 0.5645, 0.5645, 0.5635, 0.562 , 0.563 ]),\n",
       " 'split4_test_score': array([0.5615, 0.5615, 0.5615, 0.5615, 0.5615, 0.5615, 0.5615, 0.5615,\n",
       "        0.5615, 0.5615, 0.5615, 0.5615, 0.5615, 0.5615, 0.5615, 0.5615,\n",
       "        0.5615, 0.5615, 0.5615, 0.5615, 0.5615, 0.5615, 0.5615, 0.5615,\n",
       "        0.5615, 0.5615, 0.5615, 0.5615, 0.5615, 0.5615, 0.5615, 0.5615,\n",
       "        0.5615, 0.5615, 0.5615, 0.5615, 0.5615, 0.5615, 0.5615, 0.5615,\n",
       "        0.5615, 0.5615, 0.5615, 0.5615, 0.5615, 0.5615, 0.5615, 0.5615,\n",
       "        0.5615, 0.5615, 0.5615, 0.5615, 0.5615, 0.5615, 0.5615, 0.5615,\n",
       "        0.5615, 0.5615, 0.5615, 0.5615, 0.5615, 0.5615, 0.5615, 0.5615,\n",
       "        0.5615, 0.5615, 0.5615, 0.5615, 0.5615, 0.5615, 0.562 , 0.5615,\n",
       "        0.562 , 0.562 , 0.5615, 0.5615, 0.5615, 0.5615, 0.5615, 0.5615,\n",
       "        0.5615, 0.562 , 0.5615, 0.5615, 0.562 , 0.5615, 0.5615, 0.5615,\n",
       "        0.563 , 0.5615, 0.5625, 0.5625, 0.5625, 0.5635, 0.563 , 0.5625,\n",
       "        0.5615, 0.5615, 0.563 , 0.5615, 0.5625, 0.563 , 0.564 , 0.562 ,\n",
       "        0.5635, 0.562 , 0.5635, 0.562 , 0.562 , 0.5625, 0.563 , 0.566 ,\n",
       "        0.566 , 0.5635, 0.5655, 0.563 , 0.5645, 0.5635, 0.5625, 0.5635,\n",
       "        0.5635, 0.564 , 0.564 , 0.5645, 0.566 , 0.564 , 0.563 , 0.564 ,\n",
       "        0.563 , 0.5625, 0.566 , 0.5645, 0.566 , 0.566 , 0.567 , 0.5665,\n",
       "        0.565 , 0.5645, 0.565 , 0.5635, 0.567 , 0.5655, 0.568 , 0.5655,\n",
       "        0.5675, 0.5655, 0.566 , 0.565 , 0.565 , 0.5635]),\n",
       " 'mean_test_score': array([0.5611, 0.5611, 0.5611, 0.5611, 0.5611, 0.5611, 0.5611, 0.5611,\n",
       "        0.5611, 0.5611, 0.5611, 0.5611, 0.5611, 0.5611, 0.5611, 0.5611,\n",
       "        0.5611, 0.5611, 0.5611, 0.5611, 0.5611, 0.5611, 0.5611, 0.5611,\n",
       "        0.5611, 0.5611, 0.5611, 0.5611, 0.5611, 0.5611, 0.5611, 0.5611,\n",
       "        0.5611, 0.5611, 0.5611, 0.5611, 0.5611, 0.5611, 0.5611, 0.5611,\n",
       "        0.5611, 0.5611, 0.5611, 0.5611, 0.5611, 0.5611, 0.5611, 0.5611,\n",
       "        0.5611, 0.5611, 0.5611, 0.5611, 0.561 , 0.5611, 0.5612, 0.5611,\n",
       "        0.561 , 0.5611, 0.5612, 0.5611, 0.561 , 0.5611, 0.5611, 0.5612,\n",
       "        0.5612, 0.5612, 0.5611, 0.5611, 0.5612, 0.5611, 0.5613, 0.561 ,\n",
       "        0.5614, 0.5613, 0.5611, 0.561 , 0.5612, 0.5611, 0.5613, 0.5611,\n",
       "        0.561 , 0.5614, 0.5619, 0.5611, 0.5622, 0.5615, 0.5614, 0.5612,\n",
       "        0.5617, 0.5611, 0.5616, 0.562 , 0.5624, 0.5624, 0.5616, 0.5621,\n",
       "        0.5615, 0.5619, 0.5621, 0.5613, 0.5622, 0.5625, 0.5626, 0.562 ,\n",
       "        0.5632, 0.5621, 0.5627, 0.5619, 0.562 , 0.5619, 0.564 , 0.5639,\n",
       "        0.563 , 0.5625, 0.5637, 0.563 , 0.5627, 0.5626, 0.5621, 0.5624,\n",
       "        0.5639, 0.5643, 0.5634, 0.5634, 0.5643, 0.564 , 0.5626, 0.5617,\n",
       "        0.5637, 0.5621, 0.5655, 0.5649, 0.5651, 0.5637, 0.5649, 0.5641,\n",
       "        0.563 , 0.5625, 0.5629, 0.563 , 0.5674, 0.5675, 0.5659, 0.5649,\n",
       "        0.5647, 0.5646, 0.5642, 0.5642, 0.5634, 0.5627]),\n",
       " 'std_test_score': array([0.0002    , 0.0002    , 0.0002    , 0.0002    , 0.0002    ,\n",
       "        0.0002    , 0.0002    , 0.0002    , 0.0002    , 0.0002    ,\n",
       "        0.0002    , 0.0002    , 0.0002    , 0.0002    , 0.0002    ,\n",
       "        0.0002    , 0.0002    , 0.0002    , 0.0002    , 0.0002    ,\n",
       "        0.0002    , 0.0002    , 0.0002    , 0.0002    , 0.0002    ,\n",
       "        0.0002    , 0.0002    , 0.0002    , 0.0002    , 0.0002    ,\n",
       "        0.0002    , 0.0002    , 0.0002    , 0.0002    , 0.0002    ,\n",
       "        0.0002    , 0.0002    , 0.0002    , 0.0002    , 0.0002    ,\n",
       "        0.0002    , 0.0002    , 0.0002    , 0.0002    , 0.0002    ,\n",
       "        0.0002    , 0.0002    , 0.0002    , 0.0002    , 0.0002    ,\n",
       "        0.0002    , 0.0002    , 0.00031623, 0.0002    , 0.00024495,\n",
       "        0.0002    , 0.00031623, 0.0002    , 0.00024495, 0.0002    ,\n",
       "        0.00054772, 0.0002    , 0.00037417, 0.00024495, 0.00024495,\n",
       "        0.00024495, 0.0002    , 0.0002    , 0.00024495, 0.0002    ,\n",
       "        0.0006    , 0.00031623, 0.0004899 , 0.0004    , 0.00037417,\n",
       "        0.00031623, 0.00024495, 0.0002    , 0.00024495, 0.0002    ,\n",
       "        0.00089443, 0.0004899 , 0.00106771, 0.00037417, 0.00143527,\n",
       "        0.00054772, 0.0004899 , 0.00024495, 0.00074833, 0.00037417,\n",
       "        0.0008    , 0.00031623, 0.00162481, 0.00066332, 0.00086023,\n",
       "        0.00066332, 0.00054772, 0.0005831 , 0.0008    , 0.0004    ,\n",
       "        0.0021587 , 0.00144914, 0.00146287, 0.00054772, 0.00087178,\n",
       "        0.00073485, 0.00067823, 0.00037417, 0.00063246, 0.0008    ,\n",
       "        0.00130384, 0.00210713, 0.00192354, 0.00083666, 0.0012083 ,\n",
       "        0.00070711, 0.00128841, 0.00073485, 0.00073485, 0.00066332,\n",
       "        0.00257682, 0.00287402, 0.0012    , 0.00124097, 0.00087178,\n",
       "        0.00094868, 0.0002    , 0.00166132, 0.00132665, 0.0005831 ,\n",
       "        0.00242899, 0.0022    , 0.00200998, 0.00143527, 0.00156205,\n",
       "        0.00124097, 0.00114018, 0.00130384, 0.00174356, 0.00054772,\n",
       "        0.00259615, 0.00230217, 0.00124097, 0.00106771, 0.00156844,\n",
       "        0.00149666, 0.0011225 , 0.00067823, 0.00106771, 0.00067823]),\n",
       " 'rank_test_score': array([ 79,  79,  79,  79,  79,  79,  79,  79,  79,  79,  79,  79,  79,\n",
       "         79,  79,  79,  79,  79,  79,  79,  79,  79,  79,  79,  79,  79,\n",
       "         79,  79,  79,  79,  79,  79,  79,  79,  79,  79,  79,  79,  79,\n",
       "         79,  79,  79,  79,  79,  79,  79,  79,  79,  79,  79,  79,  79,\n",
       "        145,  79,  72,  79, 145,  79,  72,  79, 145,  79,  79,  71,  72,\n",
       "         72,  79,  79,  72,  79,  67, 145,  64,  70,  79, 145,  72,  79,\n",
       "         68,  79, 145,  64,  54,  79,  44,  62,  66,  72,  59,  79,  60,\n",
       "         51,  41,  41,  61,  46,  62,  54,  46,  68,  44,  38,  35,  51,\n",
       "         26,  46,  32,  56,  51,  56,  17,  18,  28,  40,  20,  27,  34,\n",
       "         35,  46,  41,  18,  11,  23,  24,  12,  16,  35,  58,  22,  46,\n",
       "          4,   6,   5,  21,   6,  15,  28,  38,  31,  28,   2,   1,   3,\n",
       "          6,   9,  10,  13,  13,  24,  32], dtype=int32)}"
      ]
     },
     "execution_count": 89,
     "metadata": {},
     "output_type": "execute_result"
    }
   ],
   "source": [
    "#random forest classifier parameters\n",
    "parameters = {'rf_tfidf__ngram_range': [(1, 1), (1, 2),(1,3),(1,4),(1,5)],\n",
    "               'rf_tfidf__use_idf': (True, False),\n",
    "               'rf_clf__max_depth': (1,2,3,4,5,6,7,8,9,10,11,12,13,14,15)\n",
    "}\n",
    "\n",
    "gs_clf = GridSearchCV(random_forest_ngram, parameters, n_jobs=-1)\n",
    "gs_clf = gs_clf.fit(train_news['Statement'][:10000],train_news['Label'][:10000])\n",
    "\n",
    "gs_clf.best_score_\n",
    "gs_clf.best_params_\n",
    "gs_clf.cv_results_"
   ]
  },
  {
   "cell_type": "code",
   "execution_count": 91,
   "metadata": {},
   "outputs": [
    {
     "name": "stdout",
     "output_type": "stream",
     "text": [
      "              precision    recall  f1-score   support\n",
      "\n",
      "       False       0.00      0.00      0.00      1169\n",
      "        True       0.54      1.00      0.70      1382\n",
      "\n",
      "    accuracy                           0.54      2551\n",
      "   macro avg       0.27      0.50      0.35      2551\n",
      "weighted avg       0.29      0.54      0.38      2551\n",
      "\n"
     ]
    }
   ],
   "source": [
    "#Running random forest with best fit parameters\n",
    "random_forest_final = Pipeline([\n",
    "        ('rf_tfidf',TfidfVectorizer(stop_words='english',ngram_range=(1,3),use_idf=True,smooth_idf=True)),\n",
    "        ('rf_clf',RandomForestClassifier(n_estimators=300,n_jobs=3,max_depth=10))\n",
    "        ])\n",
    "    \n",
    "random_forest_final.fit(train_news['Statement'],train_news['Label'])\n",
    "predicted_rf_final = random_forest_final.predict(test_news['Statement'])\n",
    "np.mean(predicted_rf_final == test_news['Label'])\n",
    "print(classification_report(test_news['Label'], predicted_rf_final))"
   ]
  },
  {
   "cell_type": "markdown",
   "metadata": {},
   "source": [
    "### Grid Search CV on Logistic regression"
   ]
  },
  {
   "cell_type": "code",
   "execution_count": 93,
   "metadata": {},
   "outputs": [
    {
     "data": {
      "text/plain": [
       "{'mean_fit_time': array([0.76091952, 0.60784583, 0.68526177, 0.59933453, 2.70275064,\n",
       "        2.99390879, 2.68246036, 2.88668075, 4.04407511, 4.76716256,\n",
       "        3.392627  , 4.43623347, 4.44313183, 5.4668292 , 4.46057744,\n",
       "        5.46071744, 5.39540162, 6.6831512 , 5.75138631, 6.07942777]),\n",
       " 'std_fit_time': array([0.0468712 , 0.02037098, 0.01789055, 0.02513488, 0.0809045 ,\n",
       "        0.07600858, 0.21086912, 0.15415291, 0.67291193, 0.13158532,\n",
       "        0.18778975, 0.10799173, 0.12823854, 0.36351509, 0.24208702,\n",
       "        0.25126863, 0.51389872, 0.36663017, 0.19156945, 0.62948591]),\n",
       " 'mean_score_time': array([0.09294715, 0.08580074, 0.08765912, 0.0861228 , 0.19040136,\n",
       "        0.16311221, 0.18887038, 0.16006775, 0.20040655, 0.18680367,\n",
       "        0.22354903, 0.17905269, 0.2215548 , 0.22373414, 0.24284439,\n",
       "        0.22110138, 0.26464324, 0.26055217, 0.26652555, 0.19655066]),\n",
       " 'std_score_time': array([0.00603275, 0.00309436, 0.00455389, 0.00401503, 0.04175516,\n",
       "        0.02713858, 0.02040714, 0.0251129 , 0.02834775, 0.02153618,\n",
       "        0.03432275, 0.02500336, 0.02237562, 0.02390382, 0.03939118,\n",
       "        0.02800391, 0.03057998, 0.01669959, 0.03307048, 0.05717343]),\n",
       " 'param_LogR_tfidf__ngram_range': masked_array(data=[(1, 1), (1, 1), (1, 1), (1, 1), (1, 2), (1, 2), (1, 2),\n",
       "                    (1, 2), (1, 3), (1, 3), (1, 3), (1, 3), (1, 4), (1, 4),\n",
       "                    (1, 4), (1, 4), (1, 5), (1, 5), (1, 5), (1, 5)],\n",
       "              mask=[False, False, False, False, False, False, False, False,\n",
       "                    False, False, False, False, False, False, False, False,\n",
       "                    False, False, False, False],\n",
       "        fill_value='?',\n",
       "             dtype=object),\n",
       " 'param_LogR_tfidf__smooth_idf': masked_array(data=[True, True, False, False, True, True, False, False,\n",
       "                    True, True, False, False, True, True, False, False,\n",
       "                    True, True, False, False],\n",
       "              mask=[False, False, False, False, False, False, False, False,\n",
       "                    False, False, False, False, False, False, False, False,\n",
       "                    False, False, False, False],\n",
       "        fill_value='?',\n",
       "             dtype=object),\n",
       " 'param_LogR_tfidf__use_idf': masked_array(data=[True, False, True, False, True, False, True, False,\n",
       "                    True, False, True, False, True, False, True, False,\n",
       "                    True, False, True, False],\n",
       "              mask=[False, False, False, False, False, False, False, False,\n",
       "                    False, False, False, False, False, False, False, False,\n",
       "                    False, False, False, False],\n",
       "        fill_value='?',\n",
       "             dtype=object),\n",
       " 'params': [{'LogR_tfidf__ngram_range': (1, 1),\n",
       "   'LogR_tfidf__smooth_idf': True,\n",
       "   'LogR_tfidf__use_idf': True},\n",
       "  {'LogR_tfidf__ngram_range': (1, 1),\n",
       "   'LogR_tfidf__smooth_idf': True,\n",
       "   'LogR_tfidf__use_idf': False},\n",
       "  {'LogR_tfidf__ngram_range': (1, 1),\n",
       "   'LogR_tfidf__smooth_idf': False,\n",
       "   'LogR_tfidf__use_idf': True},\n",
       "  {'LogR_tfidf__ngram_range': (1, 1),\n",
       "   'LogR_tfidf__smooth_idf': False,\n",
       "   'LogR_tfidf__use_idf': False},\n",
       "  {'LogR_tfidf__ngram_range': (1, 2),\n",
       "   'LogR_tfidf__smooth_idf': True,\n",
       "   'LogR_tfidf__use_idf': True},\n",
       "  {'LogR_tfidf__ngram_range': (1, 2),\n",
       "   'LogR_tfidf__smooth_idf': True,\n",
       "   'LogR_tfidf__use_idf': False},\n",
       "  {'LogR_tfidf__ngram_range': (1, 2),\n",
       "   'LogR_tfidf__smooth_idf': False,\n",
       "   'LogR_tfidf__use_idf': True},\n",
       "  {'LogR_tfidf__ngram_range': (1, 2),\n",
       "   'LogR_tfidf__smooth_idf': False,\n",
       "   'LogR_tfidf__use_idf': False},\n",
       "  {'LogR_tfidf__ngram_range': (1, 3),\n",
       "   'LogR_tfidf__smooth_idf': True,\n",
       "   'LogR_tfidf__use_idf': True},\n",
       "  {'LogR_tfidf__ngram_range': (1, 3),\n",
       "   'LogR_tfidf__smooth_idf': True,\n",
       "   'LogR_tfidf__use_idf': False},\n",
       "  {'LogR_tfidf__ngram_range': (1, 3),\n",
       "   'LogR_tfidf__smooth_idf': False,\n",
       "   'LogR_tfidf__use_idf': True},\n",
       "  {'LogR_tfidf__ngram_range': (1, 3),\n",
       "   'LogR_tfidf__smooth_idf': False,\n",
       "   'LogR_tfidf__use_idf': False},\n",
       "  {'LogR_tfidf__ngram_range': (1, 4),\n",
       "   'LogR_tfidf__smooth_idf': True,\n",
       "   'LogR_tfidf__use_idf': True},\n",
       "  {'LogR_tfidf__ngram_range': (1, 4),\n",
       "   'LogR_tfidf__smooth_idf': True,\n",
       "   'LogR_tfidf__use_idf': False},\n",
       "  {'LogR_tfidf__ngram_range': (1, 4),\n",
       "   'LogR_tfidf__smooth_idf': False,\n",
       "   'LogR_tfidf__use_idf': True},\n",
       "  {'LogR_tfidf__ngram_range': (1, 4),\n",
       "   'LogR_tfidf__smooth_idf': False,\n",
       "   'LogR_tfidf__use_idf': False},\n",
       "  {'LogR_tfidf__ngram_range': (1, 5),\n",
       "   'LogR_tfidf__smooth_idf': True,\n",
       "   'LogR_tfidf__use_idf': True},\n",
       "  {'LogR_tfidf__ngram_range': (1, 5),\n",
       "   'LogR_tfidf__smooth_idf': True,\n",
       "   'LogR_tfidf__use_idf': False},\n",
       "  {'LogR_tfidf__ngram_range': (1, 5),\n",
       "   'LogR_tfidf__smooth_idf': False,\n",
       "   'LogR_tfidf__use_idf': True},\n",
       "  {'LogR_tfidf__ngram_range': (1, 5),\n",
       "   'LogR_tfidf__smooth_idf': False,\n",
       "   'LogR_tfidf__use_idf': False}],\n",
       " 'split0_test_score': array([0.6135, 0.617 , 0.6125, 0.617 , 0.619 , 0.617 , 0.6175, 0.617 ,\n",
       "        0.6205, 0.6175, 0.621 , 0.6175, 0.6175, 0.6155, 0.6175, 0.6155,\n",
       "        0.614 , 0.615 , 0.6115, 0.615 ]),\n",
       " 'split1_test_score': array([0.618 , 0.6205, 0.6185, 0.6205, 0.6245, 0.623 , 0.625 , 0.623 ,\n",
       "        0.6245, 0.6165, 0.624 , 0.6165, 0.623 , 0.613 , 0.6205, 0.613 ,\n",
       "        0.622 , 0.6135, 0.619 , 0.6135]),\n",
       " 'split2_test_score': array([0.5945, 0.603 , 0.596 , 0.603 , 0.6025, 0.6015, 0.605 , 0.6015,\n",
       "        0.604 , 0.6045, 0.608 , 0.6045, 0.609 , 0.603 , 0.607 , 0.603 ,\n",
       "        0.6065, 0.601 , 0.609 , 0.601 ]),\n",
       " 'split3_test_score': array([0.599 , 0.608 , 0.5995, 0.608 , 0.6105, 0.605 , 0.6105, 0.605 ,\n",
       "        0.6125, 0.606 , 0.615 , 0.606 , 0.617 , 0.611 , 0.616 , 0.611 ,\n",
       "        0.621 , 0.6115, 0.618 , 0.6115]),\n",
       " 'split4_test_score': array([0.598 , 0.6045, 0.601 , 0.6045, 0.6145, 0.606 , 0.612 , 0.606 ,\n",
       "        0.613 , 0.607 , 0.613 , 0.607 , 0.616 , 0.606 , 0.6185, 0.606 ,\n",
       "        0.6165, 0.6055, 0.618 , 0.6055]),\n",
       " 'mean_test_score': array([0.6046, 0.6106, 0.6055, 0.6106, 0.6142, 0.6105, 0.614 , 0.6105,\n",
       "        0.6149, 0.6103, 0.6162, 0.6103, 0.6165, 0.6097, 0.6159, 0.6097,\n",
       "        0.616 , 0.6093, 0.6151, 0.6093]),\n",
       " 'std_test_score': array([0.00933488, 0.0069383 , 0.00853815, 0.0069383 , 0.00748064,\n",
       "        0.00812404, 0.0067897 , 0.00812404, 0.00709507, 0.00553715,\n",
       "        0.00570614, 0.00553715, 0.00447214, 0.00457821, 0.00468402,\n",
       "        0.00457821, 0.00557674, 0.00525928, 0.00405463, 0.00525928]),\n",
       " 'rank_test_score': array([20,  9, 19,  9,  7, 11,  8, 11,  6, 13,  2, 13,  1, 15,  4, 15,  3,\n",
       "        17,  5, 17], dtype=int32)}"
      ]
     },
     "execution_count": 93,
     "metadata": {},
     "output_type": "execute_result"
    }
   ],
   "source": [
    "#logistic regression parameters\n",
    "parameters = {'LogR_tfidf__ngram_range': [(1, 1), (1, 2),(1,3),(1,4),(1,5)],\n",
    "               'LogR_tfidf__use_idf': (True, False),\n",
    "               'LogR_tfidf__smooth_idf': (True, False)\n",
    "}\n",
    "\n",
    "gs_clf = GridSearchCV(logR_pipeline_ngram, parameters, n_jobs=-1)\n",
    "gs_clf = gs_clf.fit(train_news['Statement'][:10000],train_news['Label'][:10000])\n",
    "\n",
    "gs_clf.best_score_\n",
    "gs_clf.best_params_\n",
    "gs_clf.cv_results_"
   ]
  },
  {
   "cell_type": "code",
   "execution_count": 95,
   "metadata": {},
   "outputs": [
    {
     "name": "stdout",
     "output_type": "stream",
     "text": [
      "              precision    recall  f1-score   support\n",
      "\n",
      "       False       0.64      0.38      0.48      1169\n",
      "        True       0.61      0.82      0.70      1382\n",
      "\n",
      "    accuracy                           0.62      2551\n",
      "   macro avg       0.62      0.60      0.59      2551\n",
      "weighted avg       0.62      0.62      0.60      2551\n",
      "\n"
     ]
    }
   ],
   "source": [
    "#Running logistic regression with best fit parameters\n",
    "logR_pipeline_final = Pipeline([\n",
    "        ('LogR_tfidf',TfidfVectorizer(stop_words='english',ngram_range=(1,5),use_idf=True,smooth_idf=False)),\n",
    "        ('LogR_clf',LogisticRegression(penalty=\"l2\",C=1))\n",
    "        ])\n",
    "\n",
    "logR_pipeline_final.fit(train_news['Statement'],train_news['Label'])\n",
    "predicted_LogR_final = logR_pipeline_final.predict(test_news['Statement'])\n",
    "np.mean(predicted_LogR_final == test_news['Label'])\n",
    "#accuracy = 0.62\n",
    "print(classification_report(test_news['Label'], predicted_LogR_final))"
   ]
  },
  {
   "cell_type": "markdown",
   "metadata": {},
   "source": [
    "### Saving the best model i.e Logistic regression in final_model.sav"
   ]
  },
  {
   "cell_type": "code",
   "execution_count": 144,
   "metadata": {},
   "outputs": [],
   "source": [
    "import pickle\n",
    "model_file = 'final_model.sav'\n",
    "pickle.dump(logR_pipeline_ngram,open(model_file,'wb'))"
   ]
  },
  {
   "cell_type": "code",
   "execution_count": 164,
   "metadata": {},
   "outputs": [],
   "source": [
    "def plot_learning_curve(pipeline,title):\n",
    "    size = 100\n",
    "    cv = KFold(size, shuffle=True)\n",
    "    \n",
    "    X = train_news[\"Statement\"]\n",
    "    y = train_news[\"Label\"]\n",
    "    \n",
    "    pl = pipeline\n",
    "    pl.fit(X,y)\n",
    "    \n",
    "    train_sizes, train_scores, test_scores = learning_curve(pl, X, y, n_jobs=-1, cv=cv, train_sizes=np.linspace(.1, 1.0, 5), verbose=0)\n",
    "       \n",
    "    train_scores_mean = np.mean(train_scores, axis=1)\n",
    "    train_scores_std = np.std(train_scores, axis=1)\n",
    "    test_scores_mean = np.mean(test_scores, axis=1)\n",
    "    test_scores_std = np.std(test_scores, axis=1)\n",
    "     \n",
    "    plt.figure()\n",
    "    plt.title(title)\n",
    "    plt.legend(loc=\"best\")\n",
    "    plt.xlabel(\"Training examples\")\n",
    "    plt.ylabel(\"Score\")\n",
    "    plt.gca().invert_yaxis()\n",
    "    \n",
    "    # box-like grid\n",
    "    plt.grid()\n",
    "    \n",
    "    # plot the std deviation as a transparent range at each training set size\n",
    "    plt.fill_between(train_sizes, train_scores_mean - train_scores_std, train_scores_mean + train_scores_std, alpha=0.1, color=\"r\")\n",
    "    plt.fill_between(train_sizes, test_scores_mean - test_scores_std, test_scores_mean + test_scores_std, alpha=0.1, color=\"g\")\n",
    "    \n",
    "    # plot the average training and test score lines at each training set size\n",
    "    plt.plot(train_sizes, train_scores_mean, 'o-', color=\"r\", label=\"Training score\")\n",
    "    plt.plot(train_sizes, test_scores_mean, 'o-', color=\"g\", label=\"Cross-validation score\")\n",
    "    \n",
    "    # sizes the window for readability and displays the plot\n",
    "    # shows error from 0 to 1.1\n",
    "    plt.ylim(-.1,1.1)\n",
    "    plt.show()"
   ]
  },
  {
   "cell_type": "code",
   "execution_count": 165,
   "metadata": {},
   "outputs": [
    {
     "name": "stderr",
     "output_type": "stream",
     "text": [
      "No handles with labels found to put in legend.\n"
     ]
    },
    {
     "data": {
      "image/png": "[encoded data removed]",
      "text/plain": [
       "<Figure size 432x288 with 1 Axes>"
      ]
     },
     "metadata": {
      "needs_background": "light"
     },
     "output_type": "display_data"
    }
   ],
   "source": [
    "plot_learning_curve(logR_pipeline_ngram, \"LogisticRegression Classifier\")"
   ]
  },
  {
   "cell_type": "code",
   "execution_count": 161,
   "metadata": {},
   "outputs": [
    {
     "name": "stdout",
     "output_type": "stream",
     "text": [
      "Please enter the news text you want to verify: When asked by a reporter whether hes at the center of a criminal scheme to violate campaign laws, Gov. Scott Walker nodded yes\n",
      "You entered: When asked by a reporter whether hes at the center of a criminal scheme to violate campaign laws, Gov. Scott Walker nodded yes\n"
     ]
    }
   ],
   "source": [
    "\n",
    "var = input(\"Please enter the news text you want to verify: \")\n",
    "print(\"You entered: \" + str(var))\n"
   ]
  },
  {
   "cell_type": "code",
   "execution_count": 162,
   "metadata": {},
   "outputs": [],
   "source": [
    "\n",
    "#function to run for prediction\n",
    "def detecting_fake_news(var):    \n",
    "#retrieving the best model for prediction call\n",
    "    load_model = pickle.load(open('final_model.sav', 'rb'))\n",
    "    prediction = load_model.predict([var])\n",
    "    prob = load_model.predict_proba([var])\n",
    "\n",
    "    return (print(\"The given statement is \",prediction[0]),\n",
    "        print(\"The truth probability score is \",prob[0][1]))"
   ]
  },
  {
   "cell_type": "code",
   "execution_count": 163,
   "metadata": {},
   "outputs": [
    {
     "name": "stdout",
     "output_type": "stream",
     "text": [
      "The given statement is  False\n",
      "The truth probability score is  0.2790938656560584\n"
     ]
    },
    {
     "data": {
      "text/plain": [
       "(None, None)"
      ]
     },
     "execution_count": 163,
     "metadata": {},
     "output_type": "execute_result"
    }
   ],
   "source": [
    "detecting_fake_news(var)"
   ]
  },
  {
   "cell_type": "code",
   "execution_count": null,
   "metadata": {},
   "outputs": [],
   "source": []
  }
 ],
 "metadata": {
  "kernelspec": {
   "display_name": "Python 3",
   "language": "python",
   "name": "python3"
  },
  "language_info": {
   "codemirror_mode": {
    "name": "ipython",
    "version": 3
   },
   "file_extension": ".py",
   "mimetype": "text/x-python",
   "name": "python",
   "nbconvert_exporter": "python",
   "pygments_lexer": "ipython3",
   "version": "3.8.0"
  }
 },
 "nbformat": 4,
 "nbformat_minor": 4
}
